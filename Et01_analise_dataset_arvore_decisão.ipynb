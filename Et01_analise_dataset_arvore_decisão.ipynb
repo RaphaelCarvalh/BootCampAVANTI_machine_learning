{
  "nbformat": 4,
  "nbformat_minor": 0,
  "metadata": {
    "colab": {
      "provenance": [],
      "include_colab_link": true
    },
    "kernelspec": {
      "name": "python3",
      "display_name": "Python 3"
    },
    "language_info": {
      "name": "python"
    }
  },
  "cells": [
    {
      "cell_type": "markdown",
      "metadata": {
        "id": "view-in-github",
        "colab_type": "text"
      },
      "source": [
        "<a href=\"https://colab.research.google.com/github/RaphaelCarvalh/BootCampAVANTI_machine_learning/blob/ativ04-et01-analise-dataset/Et01_analise_dataset_arvore_decis%C3%A3o.ipynb\" target=\"_parent\"><img src=\"https://colab.research.google.com/assets/colab-badge.svg\" alt=\"Open In Colab\"/></a>"
      ]
    },
    {
      "cell_type": "markdown",
      "source": [
        "Projeto Clothing Co-Parsing - Etapa 1 - Notebook: Análise do Dataset - TIV-04-ET-02\n"
      ],
      "metadata": {
        "id": "xB_DWEsu5T-F"
      }
    },
    {
      "cell_type": "code",
      "source": [
        "import pandas as pd\n",
        "\n",
        "# Carregar dataset já limpo\n",
        "df = pd.read_csv(\"df_clean.csv\")\n",
        "print(df.head())\n",
        "print(f\"Total de imagens: {len(df)}\")"
      ],
      "metadata": {
        "id": "DBpI-wKGW8Si"
      },
      "execution_count": null,
      "outputs": []
    },
    {
      "cell_type": "markdown",
      "source": [
        "transformações e augmentations"
      ],
      "metadata": {
        "id": "XydGTCU9D7ZE"
      }
    },
    {
      "cell_type": "code",
      "source": [
        "from torchvision import transforms\n",
        "\n",
        "print(\"Configurando transformações e augmentations...\\n\")\n",
        "\n",
        "IMG_SIZE = 224  # definir tamanho das imagens\n",
        "\n",
        "train_transform = transforms.Compose([\n",
        "    transforms.ToPILImage(),\n",
        "    transforms.RandomResizedCrop(IMG_SIZE),\n",
        "    transforms.RandomHorizontalFlip(),\n",
        "    transforms.RandomRotation(15),\n",
        "    transforms.ColorJitter(brightness=0.2, contrast=0.2, saturation=0.2),\n",
        "    transforms.ToTensor(),\n",
        "    transforms.Normalize(mean=[0.485, 0.456, 0.406],\n",
        "                         std=[0.229, 0.224, 0.225])\n",
        "])\n",
        "\n",
        "val_test_transform = transforms.Compose([\n",
        "    transforms.ToPILImage(),\n",
        "    transforms.Resize((IMG_SIZE, IMG_SIZE)),\n",
        "    transforms.ToTensor(),\n",
        "    transforms.Normalize(mean=[0.485, 0.456, 0.406],\n",
        "                         std=[0.229, 0.224, 0.225])\n",
        "])\n",
        "\n",
        "print(\"Transformações configuradas com sucesso.\")"
      ],
      "metadata": {
        "colab": {
          "base_uri": "https://localhost:8080/"
        },
        "id": "Pjh_uGUfD6bi",
        "outputId": "c75aceed-9bf8-470d-b6ce-20f329944410"
      },
      "execution_count": null,
      "outputs": [
        {
          "output_type": "stream",
          "name": "stdout",
          "text": [
            "Configurando transformações e augmentations...\n",
            "\n",
            "Transformações configuradas com sucesso.\n"
          ]
        }
      ]
    },
    {
      "cell_type": "markdown",
      "source": [
        "Criar Datasets e DataLoaders"
      ],
      "metadata": {
        "id": "AchbzWCOEsr7"
      }
    },
    {
      "cell_type": "code",
      "source": [
        "from torch.utils.data import Dataset, DataLoader\n",
        "import cv2\n",
        "import torch\n",
        "from sklearn.model_selection import train_test_split\n",
        "\n",
        "# Pipeline para carregar imagens\n",
        "class FlowerDataset(Dataset):\n",
        "    def __init__(self, data, transform):\n",
        "        \"\"\"\n",
        "        data: array ou DataFrame com ['images', 'labels']\n",
        "        transform: transformações de imagem definidas (train_transform ou val_transform)\n",
        "        \"\"\"\n",
        "        self.data = data\n",
        "        self.transform = transform\n",
        "\n",
        "    def __len__(self):\n",
        "        return len(self.data)\n",
        "\n",
        "    def __getitem__(self, idx):\n",
        "        img_path, label = self.data[idx, 0], self.data[idx, 1]\n",
        "        img = cv2.imread(img_path)\n",
        "        img = cv2.cvtColor(img, cv2.COLOR_BGR2RGB)\n",
        "        if self.transform:\n",
        "            img = self.transform(img)\n",
        "        return img, label\n"
      ],
      "metadata": {
        "id": "CeYC6O-YEuxm"
      },
      "execution_count": null,
      "outputs": []
    },
    {
      "cell_type": "markdown",
      "source": [
        "Dividir os dados em treino, validação e teste"
      ],
      "metadata": {
        "id": "E2t04WbQEzGg"
      }
    },
    {
      "cell_type": "code",
      "source": [
        "# Divisão: 80% treino, 10% validação, 10% teste\n",
        "train_data, temp_data = train_test_split(df.values, test_size=0.2, random_state=42, stratify=df.values[:,1])\n",
        "val_data, test_data = train_test_split(temp_data, test_size=0.5, random_state=42, stratify=temp_data[:,1])\n",
        "\n",
        "# Criar datasets\n",
        "train_ds = FlowerDataset(train_data, transform=train_transform)\n",
        "val_ds = FlowerDataset(val_data, transform=val_test_transform)\n",
        "test_ds = FlowerDataset(test_data, transform=val_test_transform)\n",
        "\n",
        "# Criar dataloaders\n",
        "BATCH_SIZE = 32  # Podemos ajustar depois se a memória permitir\n",
        "\n",
        "train_dl = DataLoader(train_ds, batch_size=BATCH_SIZE, shuffle=True)\n",
        "val_dl = DataLoader(val_ds, batch_size=BATCH_SIZE, shuffle=False)\n",
        "test_dl = DataLoader(test_ds, batch_size=BATCH_SIZE, shuffle=False)\n",
        "\n",
        "print(f\"Treino: {len(train_ds)} | Validação: {len(val_ds)} | Teste: {len(test_ds)}\")\n"
      ],
      "metadata": {
        "colab": {
          "base_uri": "https://localhost:8080/"
        },
        "id": "hEj08nP2Ey0k",
        "outputId": "6103a6b3-8d3a-40a6-bff7-4180377241ab"
      },
      "execution_count": null,
      "outputs": [
        {
          "output_type": "stream",
          "name": "stdout",
          "text": [
            "Treino: 1678 | Validação: 210 | Teste: 210\n"
          ]
        }
      ]
    },
    {
      "cell_type": "markdown",
      "source": [
        "criar os DataLoaders"
      ],
      "metadata": {
        "id": "_AyeUbAPFSlI"
      }
    },
    {
      "cell_type": "code",
      "source": [
        "from torch.utils.data import DataLoader\n",
        "\n",
        "BATCH_SIZE = 32  # podemos ajustar depois se precisar\n",
        "\n",
        "train_dl = DataLoader(train_ds, batch_size=BATCH_SIZE, shuffle=True)\n",
        "val_dl = DataLoader(val_ds, batch_size=BATCH_SIZE, shuffle=False)\n",
        "test_dl = DataLoader(test_ds, batch_size=BATCH_SIZE, shuffle=False)\n",
        "\n",
        "print(f\"Train batches: {len(train_dl)}, Val batches: {len(val_dl)}, Test batches: {len(test_dl)}\")"
      ],
      "metadata": {
        "colab": {
          "base_uri": "https://localhost:8080/"
        },
        "id": "Vf2IXUvnFTzn",
        "outputId": "950cb4ba-3089-4551-c5dd-8263aef71aa9"
      },
      "execution_count": null,
      "outputs": [
        {
          "output_type": "stream",
          "name": "stdout",
          "text": [
            "Train batches: 53, Val batches: 7, Test batches: 7\n"
          ]
        }
      ]
    }
  ]
}