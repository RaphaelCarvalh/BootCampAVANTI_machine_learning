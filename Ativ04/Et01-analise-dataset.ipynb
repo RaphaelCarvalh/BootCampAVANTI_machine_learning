{
  "nbformat": 4,
  "nbformat_minor": 0,
  "metadata": {
    "colab": {
      "provenance": [],
      "toc_visible": true,
      "authorship_tag": "ABX9TyOT5YWsQHfFIP4rt3K1Ti/D",
      "include_colab_link": true
    },
    "kernelspec": {
      "name": "python3",
      "display_name": "Python 3"
    },
    "language_info": {
      "name": "python"
    }
  },
  "cells": [
    {
      "cell_type": "markdown",
      "metadata": {
        "id": "view-in-github",
        "colab_type": "text"
      },
      "source": [
        "<a href=\"https://colab.research.google.com/github/RaphaelCarvalh/BootCampAVANTI_machine_learning/blob/ativ04-et01-analise-dataset/Et01-analise-dataset.ipynb\" target=\"_parent\"><img src=\"https://colab.research.google.com/assets/colab-badge.svg\" alt=\"Open In Colab\"/></a>"
      ]
    },
    {
      "cell_type": "markdown",
      "source": [
        "Preparação do ambiente"
      ],
      "metadata": {
        "id": "7Twl8H_3Gn-u"
      }
    },
    {
      "cell_type": "code",
      "source": [
        "import os\n",
        "\n",
        "# SUBSTITUA este caminho pelo caminho EXATO da sua pasta no Google Drive.\n",
        "BASE_PATH = 'drive/My Drive/BootCampAVANTI_machine_learning/Ativ04'\n",
        "\n",
        "ANNOTATIONS_FOLDER_PATH = os.path.join(BASE_PATH, 'annotations')\n",
        "CLASS_DICT_PATH = os.path.join(BASE_PATH, 'class_dict.csv')\n",
        "\n",
        "print(f\"O código está procurando a pasta base em: {BASE_PATH}\")\n",
        "print(f\"O código está procurando a pasta de anotações em: {ANNOTATIONS_FOLDER_PATH}\")\n",
        "print(f\"O código está procurando o arquivo de classes em: {CLASS_DICT_PATH}\")"
      ],
      "metadata": {
        "id": "ChESexVbEzL8",
        "outputId": "9ecd487e-af38-4ec8-9aba-d662fcce5548",
        "colab": {
          "base_uri": "https://localhost:8080/"
        }
      },
      "execution_count": 1,
      "outputs": [
        {
          "output_type": "stream",
          "name": "stdout",
          "text": [
            "O código está procurando a pasta base em: drive/My Drive/BootCampAVANTI_machine_learning/Ativ04\n",
            "O código está procurando a pasta de anotações em: drive/My Drive/BootCampAVANTI_machine_learning/Ativ04/annotations\n",
            "O código está procurando o arquivo de classes em: drive/My Drive/BootCampAVANTI_machine_learning/Ativ04/class_dict.csv\n"
          ]
        }
      ]
    },
    {
      "cell_type": "markdown",
      "source": [
        "Achar o caminho das pastas mapeando o drive"
      ],
      "metadata": {
        "id": "mU4e3nL4GraY"
      }
    },
    {
      "cell_type": "code",
      "source": [
        "import os\n",
        "from google.colab import drive\n",
        "\n",
        "# Monta o seu Google Drive para que você possa ver a estrutura de pastas\n",
        "drive.mount('/content/drive')\n",
        "\n",
        "# Lista o conteúdo da sua pasta \"My Drive\"\n",
        "print(\"Conteúdo da sua pasta 'My Drive':\")\n",
        "print(os.listdir('/content/drive/My Drive'))"
      ],
      "metadata": {
        "id": "zPxZQ58OGJpE",
        "outputId": "c4530f6f-352b-4579-c328-677d15c84ab7",
        "colab": {
          "base_uri": "https://localhost:8080/"
        }
      },
      "execution_count": 1,
      "outputs": [
        {
          "output_type": "stream",
          "name": "stdout",
          "text": [
            "Drive already mounted at /content/drive; to attempt to forcibly remount, call drive.mount(\"/content/drive\", force_remount=True).\n",
            "Conteúdo da sua pasta 'My Drive':\n",
            "['Transfer.zip', 'Cópia de Analisando uma Empresa na Prática - Baby Investidor.pdf', 'Cópia de PPT Aula 1.pptx', 'Aula_008.pdf', 'Representação de Números em Binário e Hexadecimal.pdf', '1579482880_age-of-conquest-iv-v4-15-193-mod.apk', 'Apostilas  Price Action', 'MERCADO FINANCEIRO', 'Cópia de Fundamentos Ações (1).gsheet', 'Cópia de Fundamentos Ações.gsheet', 'Activity Exemplar: Project Move It OKRs.gdoc', 'Success Criteria Template.gdoc', 'OKR Scorecard Doc.gdoc', 'OKRs Scorecard Spreadsheet.gsheet', 'Cópia de OKRs Scorecard Spreadsheet.gsheet', 'Cópia de Cópia de OKRs Scorecard Spreadsheet.gsheet', 'Casa do Codigo-20230523T221323Z-001.7z', 'PG', '1841621 Termo RAPHAEL MENEZES DE CARVALHO.pdf', 'Raphael_Menezes_Backend_Engineer_CV_EN.pdf', 'Pasta sem nome', 'profit', 'bot', 'Cópia de Cópia de Fundamentos Ações.gsheet', 'Colab Notebooks', 'Raphael_Carvalho_Data_Analyst_CV.pdf']\n"
          ]
        }
      ]
    },
    {
      "cell_type": "code",
      "source": [
        "import os\n",
        "from google.colab import drive\n",
        "\n",
        "# Monta o seu Google Drive\n",
        "drive.mount('/content/drive')\n",
        "\n",
        "# Define o diretório onde sua pasta \"BootCampAVANTI...\" deveria estar\n",
        "base_dir = '/content/drive/My Drive/Colab Notebooks'\n",
        "\n",
        "print(\"Conteúdo da pasta 'Colab Notebooks':\")\n",
        "# Lista o conteúdo desse diretório para que você possa ver o nome exato da sua pasta\n",
        "print(os.listdir(base_dir))\n",
        "\n",
        "# Encontre o nome exato da sua pasta e substitua abaixo.\n",
        "# Por exemplo, se o nome for \"BootCampAVANTI-machine_learning\" com um hífen,\n",
        "# você precisará ajustar o caminho na próxima etapa.\n",
        "caminho_correto = os.path.join(base_dir, 'BootCampAVANTI_machine_learning', 'Ativ04')\n",
        "\n",
        "print(f\"\\nO caminho que o código tentará usar é: {caminho_correto}\")\n",
        "\n",
        "if os.path.exists(caminho_correto):\n",
        "    print(\"\\n✅ Sucesso! O caminho existe. Agora podemos rodar o script completo.\")\n",
        "else:\n",
        "    print(\"\\n❌ Erro! O caminho não existe. Verifique o nome da sua pasta no Drive e ajuste o código.\")"
      ],
      "metadata": {
        "id": "o4KJRbIyGnaM",
        "outputId": "160f6949-cf66-48af-838d-4e22766abca9",
        "colab": {
          "base_uri": "https://localhost:8080/"
        }
      },
      "execution_count": 1,
      "outputs": [
        {
          "output_type": "stream",
          "name": "stdout",
          "text": [
            "Drive already mounted at /content/drive; to attempt to forcibly remount, call drive.mount(\"/content/drive\", force_remount=True).\n",
            "Conteúdo da pasta 'Colab Notebooks':\n",
            "['Projeto_ML_Segmentacao_Vestuario', 'Untitled', 'Untitled0.ipynb', 'BootCampAVANTI_machine_learning']\n",
            "\n",
            "O caminho que o código tentará usar é: /content/drive/My Drive/Colab Notebooks/BootCampAVANTI_machine_learning/Ativ04\n",
            "\n",
            "✅ Sucesso! O caminho existe. Agora podemos rodar o script completo.\n"
          ]
        }
      ]
    },
    {
      "cell_type": "markdown",
      "source": [
        "Mapeamento dos arquivos do dataset"
      ],
      "metadata": {
        "id": "OX7-x4gVHTm8"
      }
    },
    {
      "cell_type": "code",
      "source": [
        "import os\n",
        "from google.colab import drive\n",
        "\n",
        "# Conecta ao Google Drive\n",
        "drive.mount('/content/drive')\n",
        "\n",
        "# Caminho da sua pasta de projeto, que já foi confirmado\n",
        "project_path = '/content/drive/My Drive/Colab Notebooks/BootCampAVANTI_machine_learning/Ativ04'\n",
        "\n",
        "# Verifica se a pasta do projeto existe\n",
        "if os.path.exists(project_path):\n",
        "    print(f\"Conteúdo da pasta '{project_path}':\\n\")\n",
        "    # Lista todo o conteúdo da pasta, incluindo subpastas e arquivos\n",
        "    for item in os.listdir(project_path):\n",
        "        print(f\" - {item}\")\n",
        "else:\n",
        "    print(f\"Erro: A pasta do projeto não foi encontrada em '{project_path}'.\")"
      ],
      "metadata": {
        "id": "EfEjaAy2HNOY",
        "outputId": "cac29733-8dc9-425b-b55b-5050cae4798d",
        "colab": {
          "base_uri": "https://localhost:8080/"
        }
      },
      "execution_count": 1,
      "outputs": [
        {
          "output_type": "stream",
          "name": "stdout",
          "text": [
            "Drive already mounted at /content/drive; to attempt to forcibly remount, call drive.mount(\"/content/drive\", force_remount=True).\n",
            "Conteúdo da pasta '/content/drive/My Drive/Colab Notebooks/BootCampAVANTI_machine_learning/Ativ04':\n",
            "\n",
            " - metadata.csv\n",
            " - class_dict.csv\n",
            " - images\n",
            " - labels\n",
            " - labels_raw\n"
          ]
        }
      ]
    },
    {
      "cell_type": "code",
      "source": [
        "import os\n",
        "from google.colab import drive\n",
        "\n",
        "# Conecta ao seu Google Drive\n",
        "drive.mount('/content/drive')\n",
        "\n",
        "# Substitua o caminho abaixo se sua pasta principal for diferente\n",
        "base_path = '/content/drive/My Drive/Colab Notebooks/BootCampAVANTI_machine_learning/Ativ04'\n",
        "labels_folder = os.path.join(base_path, 'labels')\n",
        "\n",
        "print(f\"Conteúdo da pasta '{labels_folder}':\\n\")\n",
        "try:\n",
        "    # Lista todo o conteúdo da pasta 'labels'\n",
        "    for item in os.listdir(labels_folder):\n",
        "        print(f\" - {item}\")\n",
        "except FileNotFoundError:\n",
        "    print(\"A pasta 'labels' não foi encontrada. Verifique o caminho novamente.\")"
      ],
      "metadata": {
        "id": "a-jWkWldHpWL",
        "outputId": "7c9fc490-d042-470f-e77d-ffac034de356",
        "colab": {
          "base_uri": "https://localhost:8080/"
        }
      },
      "execution_count": 3,
      "outputs": [
        {
          "output_type": "stream",
          "name": "stdout",
          "text": [
            "Drive already mounted at /content/drive; to attempt to forcibly remount, call drive.mount(\"/content/drive\", force_remount=True).\n",
            "Conteúdo da pasta '/content/drive/My Drive/Colab Notebooks/BootCampAVANTI_machine_learning/Ativ04/labels':\n",
            "\n",
            " - pixel_level_labels_colored\n",
            " - image_level_labels_txt\n"
          ]
        }
      ]
    },
    {
      "cell_type": "markdown",
      "source": [],
      "metadata": {
        "id": "-1D2kTNFHo7c"
      }
    },
    {
      "cell_type": "code",
      "source": [
        "import os\n",
        "import pandas as pd\n",
        "import numpy as np\n",
        "from PIL import Image\n",
        "from collections import Counter\n",
        "from google.colab import drive\n",
        "\n",
        "# 1. Conecta o Google Drive\n",
        "print(\"Conectando ao Google Drive...\")\n",
        "drive.mount('/content/drive')\n",
        "\n",
        "# 2. Define os caminhos das pastas do seu projeto\n",
        "# Este caminho foi ajustado com base na sua última informação\n",
        "BASE_PATH = '/content/drive/My Drive/Colab Notebooks/BootCampAVANTI_machine_learning/Ativ04'\n",
        "ANNOTATIONS_FOLDER_PATH = os.path.join(BASE_PATH, 'labels', 'pixel_level_labels_colored')\n",
        "CLASS_DICT_PATH = os.path.join(BASE_PATH, 'class_dict.csv')\n",
        "\n",
        "# 3. Carrega o arquivo CSV que mapeia as classes para cores\n",
        "print(f\"Carregando o arquivo de classes de: {CLASS_DICT_PATH}\")\n",
        "try:\n",
        "    df_classes = pd.read_csv(CLASS_DICT_PATH)\n",
        "    print(\"Arquivo class_dict.csv carregado com sucesso.\")\n",
        "    rgb_to_class = {tuple(row[['r', 'g', 'b']]): row['class_name'] for _, row in df_classes.iterrows()}\n",
        "except FileNotFoundError:\n",
        "    print(f\"Erro: O arquivo não foi encontrado em {CLASS_DICT_PATH}. Verifique o caminho.\")\n",
        "    exit()\n",
        "\n",
        "# 4. Inicializa o contador de pixels\n",
        "total_counts = Counter()\n",
        "\n",
        "# 5. Percorre todas as imagens de anotação e conta os pixels\n",
        "try:\n",
        "    image_files = [f for f in os.listdir(ANNOTATIONS_FOLDER_PATH) if f.endswith('.png')]\n",
        "    print(f\"Iniciando a contagem de pixels em {len(image_files)} imagens...\")\n",
        "except FileNotFoundError:\n",
        "    print(f\"Erro: A pasta de anotações não foi encontrada em {ANNOTATIONS_FOLDER_PATH}.\")\n",
        "    exit()\n",
        "\n",
        "for i, filename in enumerate(image_files):\n",
        "    img_path = os.path.join(ANNOTATIONS_FOLDER_PATH, filename)\n",
        "\n",
        "    try:\n",
        "        img = Image.open(img_path)\n",
        "        img_array = np.array(img)\n",
        "        pixels = img_array.reshape(-1, 3)\n",
        "        pixel_tuples = [tuple(p) for p in pixels]\n",
        "        current_counts = Counter(pixel_tuples)\n",
        "        total_counts.update(current_counts)\n",
        "    except Exception as e:\n",
        "        print(f\"Erro ao processar a imagem {filename}: {e}\")\n",
        "\n",
        "print(\"Contagem de pixels finalizada.\")\n",
        "\n",
        "# 6. Converte as contagens para classes e exibe o resultado\n",
        "final_class_counts = Counter()\n",
        "unmapped_pixels = 0\n",
        "for rgb_tuple, count in total_counts.items():\n",
        "    if rgb_tuple in rgb_to_class:\n",
        "        class_name = rgb_to_class[rgb_tuple]\n",
        "        final_class_counts[class_name] += count\n",
        "    else:\n",
        "        unmapped_pixels += count\n",
        "\n",
        "print(\"\\n--- Distribuição de Classes (em pixels) ---\")\n",
        "print(\"As 5 classes com maior quantidade de pixels:\")\n",
        "for class_name, count in final_class_counts.most_common(5):\n",
        "    print(f\"- {class_name}: {count} pixels\")\n",
        "\n",
        "if unmapped_pixels > 0:\n",
        "    print(f\"\\nObservação: {unmapped_pixels} pixels não puderam ser mapeados para uma classe.\")"
      ],
      "metadata": {
        "id": "UgcE7GKzHXun",
        "outputId": "77ece217-1db3-4721-fa8a-f3bf6f7603af",
        "colab": {
          "base_uri": "https://localhost:8080/"
        }
      },
      "execution_count": 4,
      "outputs": [
        {
          "output_type": "stream",
          "name": "stdout",
          "text": [
            "Conectando ao Google Drive...\n",
            "Drive already mounted at /content/drive; to attempt to forcibly remount, call drive.mount(\"/content/drive\", force_remount=True).\n",
            "Carregando o arquivo de classes de: /content/drive/My Drive/Colab Notebooks/BootCampAVANTI_machine_learning/Ativ04/class_dict.csv\n",
            "Arquivo class_dict.csv carregado com sucesso.\n",
            "Iniciando a contagem de pixels em 389 imagens...\n",
            "Contagem de pixels finalizada.\n",
            "\n",
            "--- Distribuição de Classes (em pixels) ---\n",
            "As 5 classes com maior quantidade de pixels:\n",
            "- nan: 136235130 pixels\n",
            "- dress: 5161424 pixels\n",
            "- coat: 5094542 pixels\n",
            "- skin: 4968057 pixels\n",
            "- pants: 3811546 pixels\n"
          ]
        }
      ]
    }
  ]
}