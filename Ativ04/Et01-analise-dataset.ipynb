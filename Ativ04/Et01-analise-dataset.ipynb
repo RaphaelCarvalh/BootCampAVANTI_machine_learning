{
  "nbformat": 4,
  "nbformat_minor": 0,
  "metadata": {
    "colab": {
      "provenance": [],
      "toc_visible": true,
      "authorship_tag": "ABX9TyOSrgIzcB1wOZXcaqq6ob+q",
      "include_colab_link": true
    },
    "kernelspec": {
      "name": "python3",
      "display_name": "Python 3"
    },
    "language_info": {
      "name": "python"
    }
  },
  "cells": [
    {
      "cell_type": "markdown",
      "metadata": {
        "id": "view-in-github",
        "colab_type": "text"
      },
      "source": [
        "<a href=\"https://colab.research.google.com/github/RaphaelCarvalh/BootCampAVANTI_machine_learning/blob/ativ04-et01-analise-dataset/Ativ04/Et01-analise-dataset.ipynb\" target=\"_parent\"><img src=\"https://colab.research.google.com/assets/colab-badge.svg\" alt=\"Open In Colab\"/></a>"
      ]
    },
    {
      "cell_type": "markdown",
      "source": [
        "Preparação do ambiente"
      ],
      "metadata": {
        "id": "7Twl8H_3Gn-u"
      }
    },
    {
      "cell_type": "code",
      "source": [
        "import os\n",
        "\n",
        "# SUBSTITUA este caminho pelo caminho EXATO da sua pasta no Google Drive.\n",
        "BASE_PATH = 'drive/My Drive/BootCampAVANTI_machine_learning/Ativ04'\n",
        "\n",
        "ANNOTATIONS_FOLDER_PATH = os.path.join(BASE_PATH, 'annotations')\n",
        "CLASS_DICT_PATH = os.path.join(BASE_PATH, 'class_dict.csv')\n",
        "\n",
        "print(f\"O código está procurando a pasta base em: {BASE_PATH}\")\n",
        "print(f\"O código está procurando a pasta de anotações em: {ANNOTATIONS_FOLDER_PATH}\")\n",
        "print(f\"O código está procurando o arquivo de classes em: {CLASS_DICT_PATH}\")"
      ],
      "metadata": {
        "id": "ChESexVbEzL8",
        "outputId": "9ecd487e-af38-4ec8-9aba-d662fcce5548",
        "colab": {
          "base_uri": "https://localhost:8080/"
        }
      },
      "execution_count": null,
      "outputs": [
        {
          "output_type": "stream",
          "name": "stdout",
          "text": [
            "O código está procurando a pasta base em: drive/My Drive/BootCampAVANTI_machine_learning/Ativ04\n",
            "O código está procurando a pasta de anotações em: drive/My Drive/BootCampAVANTI_machine_learning/Ativ04/annotations\n",
            "O código está procurando o arquivo de classes em: drive/My Drive/BootCampAVANTI_machine_learning/Ativ04/class_dict.csv\n"
          ]
        }
      ]
    },
    {
      "cell_type": "markdown",
      "source": [
        "Achar o caminho das pastas mapeando o drive"
      ],
      "metadata": {
        "id": "mU4e3nL4GraY"
      }
    },
    {
      "cell_type": "code",
      "source": [
        "import os\n",
        "from google.colab import drive\n",
        "\n",
        "# Monta o seu Google Drive para que você possa ver a estrutura de pastas\n",
        "drive.mount('/content/drive')\n",
        "\n",
        "# Lista o conteúdo da sua pasta \"My Drive\"\n",
        "print(\"Conteúdo da sua pasta 'My Drive':\")\n",
        "print(os.listdir('/content/drive/My Drive'))"
      ],
      "metadata": {
        "id": "zPxZQ58OGJpE",
        "outputId": "c4530f6f-352b-4579-c328-677d15c84ab7",
        "colab": {
          "base_uri": "https://localhost:8080/"
        }
      },
      "execution_count": null,
      "outputs": [
        {
          "output_type": "stream",
          "name": "stdout",
          "text": [
            "Drive already mounted at /content/drive; to attempt to forcibly remount, call drive.mount(\"/content/drive\", force_remount=True).\n",
            "Conteúdo da sua pasta 'My Drive':\n",
            "['Transfer.zip', 'Cópia de Analisando uma Empresa na Prática - Baby Investidor.pdf', 'Cópia de PPT Aula 1.pptx', 'Aula_008.pdf', 'Representação de Números em Binário e Hexadecimal.pdf', '1579482880_age-of-conquest-iv-v4-15-193-mod.apk', 'Apostilas  Price Action', 'MERCADO FINANCEIRO', 'Cópia de Fundamentos Ações (1).gsheet', 'Cópia de Fundamentos Ações.gsheet', 'Activity Exemplar: Project Move It OKRs.gdoc', 'Success Criteria Template.gdoc', 'OKR Scorecard Doc.gdoc', 'OKRs Scorecard Spreadsheet.gsheet', 'Cópia de OKRs Scorecard Spreadsheet.gsheet', 'Cópia de Cópia de OKRs Scorecard Spreadsheet.gsheet', 'Casa do Codigo-20230523T221323Z-001.7z', 'PG', '1841621 Termo RAPHAEL MENEZES DE CARVALHO.pdf', 'Raphael_Menezes_Backend_Engineer_CV_EN.pdf', 'Pasta sem nome', 'profit', 'bot', 'Cópia de Cópia de Fundamentos Ações.gsheet', 'Colab Notebooks', 'Raphael_Carvalho_Data_Analyst_CV.pdf']\n"
          ]
        }
      ]
    },
    {
      "cell_type": "code",
      "source": [
        "import os\n",
        "from google.colab import drive\n",
        "\n",
        "# Monta o seu Google Drive\n",
        "drive.mount('/content/drive')\n",
        "\n",
        "# Define o diretório onde sua pasta \"BootCampAVANTI...\" deveria estar\n",
        "base_dir = '/content/drive/My Drive/Colab Notebooks'\n",
        "\n",
        "print(\"Conteúdo da pasta 'Colab Notebooks':\")\n",
        "# Lista o conteúdo desse diretório para que você possa ver o nome exato da sua pasta\n",
        "print(os.listdir(base_dir))\n",
        "\n",
        "# Encontre o nome exato da sua pasta e substitua abaixo.\n",
        "# Por exemplo, se o nome for \"BootCampAVANTI-machine_learning\" com um hífen,\n",
        "# você precisará ajustar o caminho na próxima etapa.\n",
        "caminho_correto = os.path.join(base_dir, 'BootCampAVANTI_machine_learning', 'Ativ04')\n",
        "\n",
        "print(f\"\\nO caminho que o código tentará usar é: {caminho_correto}\")\n",
        "\n",
        "if os.path.exists(caminho_correto):\n",
        "    print(\"\\n✅ Sucesso! O caminho existe. Agora podemos rodar o script completo.\")\n",
        "else:\n",
        "    print(\"\\n❌ Erro! O caminho não existe. Verifique o nome da sua pasta no Drive e ajuste o código.\")"
      ],
      "metadata": {
        "id": "o4KJRbIyGnaM",
        "outputId": "160f6949-cf66-48af-838d-4e22766abca9",
        "colab": {
          "base_uri": "https://localhost:8080/"
        }
      },
      "execution_count": null,
      "outputs": [
        {
          "output_type": "stream",
          "name": "stdout",
          "text": [
            "Drive already mounted at /content/drive; to attempt to forcibly remount, call drive.mount(\"/content/drive\", force_remount=True).\n",
            "Conteúdo da pasta 'Colab Notebooks':\n",
            "['Projeto_ML_Segmentacao_Vestuario', 'Untitled', 'Untitled0.ipynb', 'BootCampAVANTI_machine_learning']\n",
            "\n",
            "O caminho que o código tentará usar é: /content/drive/My Drive/Colab Notebooks/BootCampAVANTI_machine_learning/Ativ04\n",
            "\n",
            "✅ Sucesso! O caminho existe. Agora podemos rodar o script completo.\n"
          ]
        }
      ]
    },
    {
      "cell_type": "markdown",
      "source": [
        "Mapeamento dos arquivos do dataset"
      ],
      "metadata": {
        "id": "OX7-x4gVHTm8"
      }
    },
    {
      "cell_type": "code",
      "source": [
        "import os\n",
        "from google.colab import drive\n",
        "\n",
        "# Conecta ao Google Drive\n",
        "drive.mount('/content/drive')\n",
        "\n",
        "# Caminho da sua pasta de projeto, que já foi confirmado\n",
        "project_path = '/content/drive/My Drive/Colab Notebooks/BootCampAVANTI_machine_learning/Ativ04'\n",
        "\n",
        "# Verifica se a pasta do projeto existe\n",
        "if os.path.exists(project_path):\n",
        "    print(f\"Conteúdo da pasta '{project_path}':\\n\")\n",
        "    # Lista todo o conteúdo da pasta, incluindo subpastas e arquivos\n",
        "    for item in os.listdir(project_path):\n",
        "        print(f\" - {item}\")\n",
        "else:\n",
        "    print(f\"Erro: A pasta do projeto não foi encontrada em '{project_path}'.\")"
      ],
      "metadata": {
        "id": "EfEjaAy2HNOY",
        "outputId": "cac29733-8dc9-425b-b55b-5050cae4798d",
        "colab": {
          "base_uri": "https://localhost:8080/"
        }
      },
      "execution_count": null,
      "outputs": [
        {
          "output_type": "stream",
          "name": "stdout",
          "text": [
            "Drive already mounted at /content/drive; to attempt to forcibly remount, call drive.mount(\"/content/drive\", force_remount=True).\n",
            "Conteúdo da pasta '/content/drive/My Drive/Colab Notebooks/BootCampAVANTI_machine_learning/Ativ04':\n",
            "\n",
            " - metadata.csv\n",
            " - class_dict.csv\n",
            " - images\n",
            " - labels\n",
            " - labels_raw\n"
          ]
        }
      ]
    },
    {
      "cell_type": "code",
      "source": [
        "import os\n",
        "from google.colab import drive\n",
        "\n",
        "# Conecta ao seu Google Drive\n",
        "drive.mount('/content/drive')\n",
        "\n",
        "# Substitua o caminho abaixo se sua pasta principal for diferente\n",
        "base_path = '/content/drive/My Drive/Colab Notebooks/BootCampAVANTI_machine_learning/Ativ04'\n",
        "labels_folder = os.path.join(base_path, 'labels')\n",
        "\n",
        "print(f\"Conteúdo da pasta '{labels_folder}':\\n\")\n",
        "try:\n",
        "    # Lista todo o conteúdo da pasta 'labels'\n",
        "    for item in os.listdir(labels_folder):\n",
        "        print(f\" - {item}\")\n",
        "except FileNotFoundError:\n",
        "    print(\"A pasta 'labels' não foi encontrada. Verifique o caminho novamente.\")"
      ],
      "metadata": {
        "id": "a-jWkWldHpWL",
        "outputId": "7c9fc490-d042-470f-e77d-ffac034de356",
        "colab": {
          "base_uri": "https://localhost:8080/"
        }
      },
      "execution_count": null,
      "outputs": [
        {
          "output_type": "stream",
          "name": "stdout",
          "text": [
            "Drive already mounted at /content/drive; to attempt to forcibly remount, call drive.mount(\"/content/drive\", force_remount=True).\n",
            "Conteúdo da pasta '/content/drive/My Drive/Colab Notebooks/BootCampAVANTI_machine_learning/Ativ04/labels':\n",
            "\n",
            " - pixel_level_labels_colored\n",
            " - image_level_labels_txt\n"
          ]
        }
      ]
    },
    {
      "cell_type": "markdown",
      "source": [
        "00. Análise de Desequilíbrio das Classes\n",
        "O desequilíbrio das classes acontece quando um modelo é treinado com um conjunto de dados onde uma classe é muito mais frequente que as outras. Para o seu projeto, isso significa que a quantidade de pixels de uma roupa é muito maior do que a de outras."
      ],
      "metadata": {
        "id": "xSJfRP_eGkkl"
      }
    },
    {
      "cell_type": "code",
      "source": [
        "import os\n",
        "import pandas as pd\n",
        "import numpy as np\n",
        "from PIL import Image\n",
        "from collections import Counter\n",
        "from google.colab import drive\n",
        "\n",
        "# 1. Conecta o Google Drive\n",
        "print(\"Conectando ao Google Drive...\")\n",
        "drive.mount('/content/drive')\n",
        "\n",
        "# 2. Define os caminhos das pastas do seu projeto\n",
        "# Este caminho foi ajustado com base na sua última informação\n",
        "BASE_PATH = '/content/drive/My Drive/Colab Notebooks/BootCampAVANTI_machine_learning/Ativ04'\n",
        "ANNOTATIONS_FOLDER_PATH = os.path.join(BASE_PATH, 'labels', 'pixel_level_labels_colored')\n",
        "CLASS_DICT_PATH = os.path.join(BASE_PATH, 'class_dict.csv')\n",
        "\n",
        "# 3. Carrega o arquivo CSV que mapeia as classes para cores\n",
        "print(f\"Carregando o arquivo de classes de: {CLASS_DICT_PATH}\")\n",
        "try:\n",
        "    df_classes = pd.read_csv(CLASS_DICT_PATH)\n",
        "    print(\"Arquivo class_dict.csv carregado com sucesso.\")\n",
        "    rgb_to_class = {tuple(row[['r', 'g', 'b']]): row['class_name'] for _, row in df_classes.iterrows()}\n",
        "except FileNotFoundError:\n",
        "    print(f\"Erro: O arquivo não foi encontrado em {CLASS_DICT_PATH}. Verifique o caminho.\")\n",
        "    exit()\n",
        "\n",
        "# 4. Inicializa o contador de pixels\n",
        "total_counts = Counter()\n",
        "\n",
        "# 5. Percorre todas as imagens de anotação e conta os pixels\n",
        "try:\n",
        "    image_files = [f for f in os.listdir(ANNOTATIONS_FOLDER_PATH) if f.endswith('.png')]\n",
        "    print(f\"Iniciando a contagem de pixels em {len(image_files)} imagens...\")\n",
        "except FileNotFoundError:\n",
        "    print(f\"Erro: A pasta de anotações não foi encontrada em {ANNOTATIONS_FOLDER_PATH}.\")\n",
        "    exit()\n",
        "\n",
        "for i, filename in enumerate(image_files):\n",
        "    img_path = os.path.join(ANNOTATIONS_FOLDER_PATH, filename)\n",
        "\n",
        "    try:\n",
        "        img = Image.open(img_path)\n",
        "        img_array = np.array(img)\n",
        "        pixels = img_array.reshape(-1, 3)\n",
        "        pixel_tuples = [tuple(p) for p in pixels]\n",
        "        current_counts = Counter(pixel_tuples)\n",
        "        total_counts.update(current_counts)\n",
        "    except Exception as e:\n",
        "        print(f\"Erro ao processar a imagem {filename}: {e}\")\n",
        "\n",
        "print(\"Contagem de pixels finalizada.\")\n",
        "\n",
        "# 6. Converte as contagens para classes e exibe o resultado\n",
        "final_class_counts = Counter()\n",
        "unmapped_pixels = 0\n",
        "for rgb_tuple, count in total_counts.items():\n",
        "    if rgb_tuple in rgb_to_class:\n",
        "        class_name = rgb_to_class[rgb_tuple]\n",
        "        final_class_counts[class_name] += count\n",
        "    else:\n",
        "        unmapped_pixels += count\n",
        "\n",
        "print(\"\\n--- Distribuição de Classes (em pixels) ---\")\n",
        "print(\"As 5 classes com maior quantidade de pixels:\")\n",
        "for class_name, count in final_class_counts.most_common(5):\n",
        "    print(f\"- {class_name}: {count} pixels\")\n",
        "\n",
        "if unmapped_pixels > 0:\n",
        "    print(f\"\\nObservação: {unmapped_pixels} pixels não puderam ser mapeados para uma classe.\")"
      ],
      "metadata": {
        "id": "UgcE7GKzHXun",
        "outputId": "77ece217-1db3-4721-fa8a-f3bf6f7603af",
        "colab": {
          "base_uri": "https://localhost:8080/"
        }
      },
      "execution_count": null,
      "outputs": [
        {
          "output_type": "stream",
          "name": "stdout",
          "text": [
            "Conectando ao Google Drive...\n",
            "Drive already mounted at /content/drive; to attempt to forcibly remount, call drive.mount(\"/content/drive\", force_remount=True).\n",
            "Carregando o arquivo de classes de: /content/drive/My Drive/Colab Notebooks/BootCampAVANTI_machine_learning/Ativ04/class_dict.csv\n",
            "Arquivo class_dict.csv carregado com sucesso.\n",
            "Iniciando a contagem de pixels em 389 imagens...\n",
            "Contagem de pixels finalizada.\n",
            "\n",
            "--- Distribuição de Classes (em pixels) ---\n",
            "As 5 classes com maior quantidade de pixels:\n",
            "- nan: 136235130 pixels\n",
            "- dress: 5161424 pixels\n",
            "- coat: 5094542 pixels\n",
            "- skin: 4968057 pixels\n",
            "- pants: 3811546 pixels\n"
          ]
        }
      ]
    },
    {
      "cell_type": "markdown",
      "source": [
        "Módulo 1: Integridade dos Arquivos e Consistência de Formato"
      ],
      "metadata": {
        "id": "RogkDngFDayI"
      }
    },
    {
      "cell_type": "markdown",
      "source": [
        "Este código irá verificar se todas as imagens listadas no metadata.csv realmente existem na pasta images. Ele também verifica se todas as imagens estão no mesmo formato (ex: PNG, JPEG)."
      ],
      "metadata": {
        "id": "eLi8v5GKDh12"
      }
    },
    {
      "cell_type": "markdown",
      "source": [
        "encontrando o nome da coluna"
      ],
      "metadata": {
        "id": "eODzSrKyD47o"
      }
    },
    {
      "cell_type": "code",
      "source": [
        "import os\n",
        "import pandas as pd\n",
        "from google.colab import drive\n",
        "\n",
        "drive.mount('/content/drive')\n",
        "METADATA_PATH = '/content/drive/My Drive/Colab Notebooks/BootCampAVANTI_machine_learning/Ativ04/metadata.csv'\n",
        "\n",
        "try:\n",
        "    df_meta = pd.read_csv(METADATA_PATH)\n",
        "    print(\"O arquivo metadata.csv foi carregado com sucesso.\")\n",
        "    print(\"\\nAs colunas disponíveis no arquivo são:\")\n",
        "    print(df_meta.columns.tolist())\n",
        "    print(\"\\nA primeira linha do arquivo é:\")\n",
        "    print(df_meta.head(1))\n",
        "except FileNotFoundError:\n",
        "    print(f\"Erro: O arquivo {METADATA_PATH} não foi encontrado. Verifique o caminho.\")"
      ],
      "metadata": {
        "id": "nRPSaYniD4D-",
        "outputId": "a3574020-53bb-4f79-9d60-ad4997b25076",
        "colab": {
          "base_uri": "https://localhost:8080/"
        }
      },
      "execution_count": 2,
      "outputs": [
        {
          "output_type": "stream",
          "name": "stdout",
          "text": [
            "Drive already mounted at /content/drive; to attempt to forcibly remount, call drive.mount(\"/content/drive\", force_remount=True).\n",
            "O arquivo metadata.csv foi carregado com sucesso.\n",
            "\n",
            "As colunas disponíveis no arquivo são:\n",
            "['image_id', 'image_path', 'label_type', 'label_path', 'raw_label_path']\n",
            "\n",
            "A primeira linha do arquivo é:\n",
            "   image_id       image_path   label_type  \\\n",
            "0         1  images/0001.jpg  pixel-level   \n",
            "\n",
            "                            label_path                   raw_label_path  \n",
            "0  pixel_level_labels_colored/0001.png  pixel_level_labels_mat/0001.mat  \n"
          ]
        }
      ]
    },
    {
      "cell_type": "code",
      "source": [
        "import os\n",
        "import pandas as pd\n",
        "from PIL import Image\n",
        "from collections import Counter\n",
        "from google.colab import drive\n",
        "\n",
        "# Conecta ao Google Drive\n",
        "drive.mount('/content/drive')\n",
        "\n",
        "# Caminho base do seu projeto (já verificado)\n",
        "BASE_PATH = '/content/drive/My Drive/Colab Notebooks/BootCampAVANTI_machine_learning/Ativ04'\n",
        "IMAGES_FOLDER_PATH = os.path.join(BASE_PATH, 'images')\n",
        "METADATA_PATH = os.path.join(BASE_PATH, 'metadata.csv')\n",
        "\n",
        "print(\"--- 1. Análise de Integridade dos Arquivos e Consistência de Formato ---\")\n",
        "\n",
        "try:\n",
        "    df_meta = pd.read_csv(METADATA_PATH)\n",
        "    print(f\"\\nVerificando integridade de {len(df_meta)} imagens listadas no metadata.csv...\")\n",
        "\n",
        "    # Verifica a existência das imagens, usando a coluna 'image_path'\n",
        "    listed_images = set(df_meta['image_path'].apply(os.path.basename).tolist())\n",
        "    actual_images = set(os.listdir(IMAGES_FOLDER_PATH))\n",
        "\n",
        "    missing_images = listed_images - actual_images\n",
        "    extra_images = actual_images - listed_images\n",
        "\n",
        "    if not missing_images and not extra_images:\n",
        "        print(\"✅ Sucesso: Todas as imagens listadas no metadata.csv existem e vice-versa.\")\n",
        "    else:\n",
        "        if missing_images:\n",
        "            print(f\"❌ Erro: {len(missing_images)} imagens listadas não foram encontradas.\")\n",
        "        if extra_images:\n",
        "            print(f\"❌ Erro: {len(extra_images)} imagens existem mas não estão listadas.\")\n",
        "\n",
        "    # Verifica a consistência do formato das imagens\n",
        "    formats = Counter()\n",
        "    for img_name in actual_images:\n",
        "        try:\n",
        "            img = Image.open(os.path.join(IMAGES_FOLDER_PATH, img_name))\n",
        "            formats[img.format] += 1\n",
        "        except Exception:\n",
        "            pass\n",
        "    print(f\"\\nFormatos de imagem encontrados: {formats}\")\n",
        "    if len(formats) == 1:\n",
        "        print(\"✅ Sucesso: Todas as imagens estão no mesmo formato.\")\n",
        "    else:\n",
        "        print(\"❌ Aviso: Múltiplos formatos de imagem encontrados. Considere converter para um formato único.\")\n",
        "\n",
        "except FileNotFoundError:\n",
        "    print(f\"\\nErro: O arquivo {METADATA_PATH} não foi encontrado. Esta verificação não pode ser realizada.\")"
      ],
      "metadata": {
        "id": "LQbKjwx6Diq3",
        "outputId": "ab2bcb90-ea62-431d-ab23-8f4b9736b470",
        "colab": {
          "base_uri": "https://localhost:8080/"
        }
      },
      "execution_count": 3,
      "outputs": [
        {
          "output_type": "stream",
          "name": "stdout",
          "text": [
            "Drive already mounted at /content/drive; to attempt to forcibly remount, call drive.mount(\"/content/drive\", force_remount=True).\n",
            "--- 1. Análise de Integridade dos Arquivos e Consistência de Formato ---\n",
            "\n",
            "Verificando integridade de 2098 imagens listadas no metadata.csv...\n",
            "✅ Sucesso: Todas as imagens listadas no metadata.csv existem e vice-versa.\n",
            "\n",
            "Formatos de imagem encontrados: Counter({'JPEG': 2098})\n",
            "✅ Sucesso: Todas as imagens estão no mesmo formato.\n"
          ]
        }
      ]
    },
    {
      "cell_type": "markdown",
      "source": [
        "Módulo 2: Consistência dos Metadados"
      ],
      "metadata": {
        "id": "eCo-qxzkJjQI"
      }
    },
    {
      "cell_type": "markdown",
      "source": [
        "Este módulo verifica o metadata.csv em busca de valores ausentes, que podem causar problemas na sua modelagem."
      ],
      "metadata": {
        "id": "Pk9wNGB-EbiE"
      }
    },
    {
      "cell_type": "code",
      "source": [
        "import os\n",
        "import pandas as pd\n",
        "from PIL import Image\n",
        "from collections import Counter\n",
        "from google.colab import drive\n",
        "\n",
        "# Conecta ao Google Drive\n",
        "drive.mount('/content/drive')\n",
        "\n",
        "# Caminho base do seu projeto (já verificado)\n",
        "BASE_PATH = '/content/drive/My Drive/Colab Notebooks/BootCampAVANTI_machine_learning/Ativ04'\n",
        "METADATA_PATH = os.path.join(BASE_PATH, 'metadata.csv')\n",
        "IMAGES_FOLDER_PATH = os.path.join(BASE_PATH, 'images')\n",
        "\n",
        "print(\"\\n--- 2. Análise de Consistência dos Metadados e Dimensões ---\")\n",
        "\n",
        "# Verificação de valores ausentes\n",
        "try:\n",
        "    df_meta = pd.read_csv(METADATA_PATH)\n",
        "    print(\"Verificando valores ausentes no metadata.csv...\")\n",
        "    if df_meta.isnull().sum().sum() == 0:\n",
        "        print(\"✅ Sucesso: Não há valores ausentes no arquivo de metadados.\")\n",
        "    else:\n",
        "        print(\"❌ Aviso: Valores ausentes encontrados nos metadados. Analise e decida como tratá-los.\")\n",
        "        print(df_meta.isnull().sum())\n",
        "except FileNotFoundError:\n",
        "    print(f\"Erro: O arquivo {METADATA_PATH} não foi encontrado.\")\n",
        "\n",
        "print(\"\\nVerificando dimensões das imagens...\")\n",
        "try:\n",
        "    image_dimensions = Counter()\n",
        "    for img_name in os.listdir(IMAGES_FOLDER_PATH):\n",
        "        try:\n",
        "            img = Image.open(os.path.join(IMAGES_FOLDER_PATH, img_name))\n",
        "            image_dimensions[img.size] += 1\n",
        "        except Exception as e:\n",
        "            print(f\"Atenção: Não foi possível verificar as dimensões da imagem {img_name}: {e}\")\n",
        "\n",
        "    if not image_dimensions:\n",
        "        print(\"Aviso: Nenhuma dimensão de imagem encontrada.\")\n",
        "    else:\n",
        "        most_common_size = image_dimensions.most_common(1)[0][0]\n",
        "        if len(image_dimensions) == 1:\n",
        "            print(f\"✅ Sucesso: Todas as imagens têm a mesma dimensão: {most_common_size}\")\n",
        "        else:\n",
        "            print(f\"❌ Aviso: Múltiplas dimensões de imagem encontradas. A dimensão mais comum é {most_common_size}.\")\n",
        "            print(\"\\nDistribuição das dimensões:\")\n",
        "            for size, count in image_dimensions.items():\n",
        "                print(f\"  - {size}: {count} imagens\")\n",
        "\n",
        "except FileNotFoundError:\n",
        "    print(f\"Erro: A pasta de imagens não foi encontrada em {IMAGES_FOLDER_PATH}.\")"
      ],
      "metadata": {
        "id": "VVPitWB1EdyZ",
        "outputId": "b1325f64-b6e6-4d7b-f90a-e92e719f09dc",
        "colab": {
          "base_uri": "https://localhost:8080/"
        }
      },
      "execution_count": 6,
      "outputs": [
        {
          "output_type": "stream",
          "name": "stdout",
          "text": [
            "Drive already mounted at /content/drive; to attempt to forcibly remount, call drive.mount(\"/content/drive\", force_remount=True).\n",
            "\n",
            "--- 2. Análise de Consistência dos Metadados e Dimensões ---\n",
            "Verificando valores ausentes no metadata.csv...\n",
            "✅ Sucesso: Não há valores ausentes no arquivo de metadados.\n",
            "\n",
            "Verificando dimensões das imagens...\n",
            "❌ Aviso: Múltiplas dimensões de imagem encontradas. A dimensão mais comum é (550, 825).\n",
            "\n",
            "Distribuição das dimensões:\n",
            "  - (550, 809): 18 imagens\n",
            "  - (550, 815): 13 imagens\n",
            "  - (550, 842): 34 imagens\n",
            "  - (550, 836): 65 imagens\n",
            "  - (550, 828): 41 imagens\n",
            "  - (550, 820): 96 imagens\n",
            "  - (550, 816): 48 imagens\n",
            "  - (550, 817): 46 imagens\n",
            "  - (550, 838): 55 imagens\n",
            "  - (550, 840): 25 imagens\n",
            "  - (550, 866): 2 imagens\n",
            "  - (550, 805): 2 imagens\n",
            "  - (550, 825): 242 imagens\n",
            "  - (550, 831): 114 imagens\n",
            "  - (550, 827): 135 imagens\n",
            "  - (550, 819): 39 imagens\n",
            "  - (550, 846): 17 imagens\n",
            "  - (550, 822): 30 imagens\n",
            "  - (550, 853): 13 imagens\n",
            "  - (550, 823): 96 imagens\n",
            "  - (550, 826): 54 imagens\n",
            "  - (550, 814): 31 imagens\n",
            "  - (550, 813): 25 imagens\n",
            "  - (550, 821): 68 imagens\n",
            "  - (550, 833): 53 imagens\n",
            "  - (550, 829): 75 imagens\n",
            "  - (550, 818): 33 imagens\n",
            "  - (550, 839): 45 imagens\n",
            "  - (550, 810): 18 imagens\n",
            "  - (550, 849): 12 imagens\n",
            "  - (550, 830): 57 imagens\n",
            "  - (550, 832): 53 imagens\n",
            "  - (550, 811): 23 imagens\n",
            "  - (550, 834): 85 imagens\n",
            "  - (550, 869): 1 imagens\n",
            "  - (550, 845): 24 imagens\n",
            "  - (550, 855): 3 imagens\n",
            "  - (550, 812): 27 imagens\n",
            "  - (550, 848): 17 imagens\n",
            "  - (550, 824): 50 imagens\n",
            "  - (550, 841): 11 imagens\n",
            "  - (550, 847): 12 imagens\n",
            "  - (550, 835): 31 imagens\n",
            "  - (550, 874): 2 imagens\n",
            "  - (550, 807): 13 imagens\n",
            "  - (550, 843): 20 imagens\n",
            "  - (550, 877): 2 imagens\n",
            "  - (550, 837): 40 imagens\n",
            "  - (550, 862): 2 imagens\n",
            "  - (550, 863): 2 imagens\n",
            "  - (550, 856): 7 imagens\n",
            "  - (550, 852): 4 imagens\n",
            "  - (550, 865): 1 imagens\n",
            "  - (550, 786): 1 imagens\n",
            "  - (550, 806): 7 imagens\n",
            "  - (550, 851): 6 imagens\n",
            "  - (550, 850): 6 imagens\n",
            "  - (550, 860): 2 imagens\n",
            "  - (550, 844): 13 imagens\n",
            "  - (550, 861): 3 imagens\n",
            "  - (550, 787): 1 imagens\n",
            "  - (550, 854): 9 imagens\n",
            "  - (550, 868): 1 imagens\n",
            "  - (550, 871): 2 imagens\n",
            "  - (550, 872): 1 imagens\n",
            "  - (550, 864): 6 imagens\n",
            "  - (550, 857): 1 imagens\n",
            "  - (550, 859): 1 imagens\n",
            "  - (550, 867): 1 imagens\n",
            "  - (550, 804): 1 imagens\n",
            "  - (550, 808): 1 imagens\n",
            "  - (550, 803): 1 imagens\n",
            "  - (550, 801): 1 imagens\n",
            "  - (550, 873): 1 imagens\n"
          ]
        }
      ]
    },
    {
      "cell_type": "markdown",
      "source": [
        "Módulo 3: Qualidade das Imagens\n",
        "Este código irá verificar se existem imagens corrompidas que não podem ser abertas ou processadas."
      ],
      "metadata": {
        "id": "l8iTM_EjFWNY"
      }
    },
    {
      "cell_type": "code",
      "source": [
        "import os\n",
        "from PIL import Image\n",
        "from google.colab import drive\n",
        "\n",
        "# Conecta ao Google Drive\n",
        "drive.mount('/content/drive')\n",
        "\n",
        "# Caminho base do seu projeto\n",
        "BASE_PATH = '/content/drive/My Drive/Colab Notebooks/BootCampAVANTI_machine_learning/Ativ04'\n",
        "IMAGES_FOLDER_PATH = os.path.join(BASE_PATH, 'images')\n",
        "\n",
        "print(\"\\n--- 3. Análise de Qualidade das Imagens ---\")\n",
        "print(\"Verificando imagens corrompidas...\")\n",
        "\n",
        "corrupted_images = []\n",
        "for img_name in os.listdir(IMAGES_FOLDER_PATH):\n",
        "    try:\n",
        "        img = Image.open(os.path.join(IMAGES_FOLDER_PATH, img_name))\n",
        "        img.verify()\n",
        "    except (IOError, SyntaxError):\n",
        "        corrupted_images.append(img_name)\n",
        "\n",
        "if not corrupted_images:\n",
        "    print(\"✅ Sucesso: Nenhuma imagem corrompida foi encontrada.\")\n",
        "else:\n",
        "    print(f\"❌ Erro: {len(corrupted_images)} imagens corrompidas foram encontradas. Considere removê-las.\")"
      ],
      "metadata": {
        "id": "cefzqmqIFV7P",
        "outputId": "3e576c0c-4ef2-4024-8360-1ade39718ec4",
        "colab": {
          "base_uri": "https://localhost:8080/"
        }
      },
      "execution_count": 7,
      "outputs": [
        {
          "output_type": "stream",
          "name": "stdout",
          "text": [
            "Drive already mounted at /content/drive; to attempt to forcibly remount, call drive.mount(\"/content/drive\", force_remount=True).\n",
            "\n",
            "--- 3. Análise de Qualidade das Imagens ---\n",
            "Verificando imagens corrompidas...\n",
            "✅ Sucesso: Nenhuma imagem corrompida foi encontrada.\n"
          ]
        }
      ]
    },
    {
      "cell_type": "markdown",
      "source": [
        "Módulo 4: Duplicatas\n",
        "Este módulo verifica se há imagens duplicadas na pasta images e se há linhas duplicadas no arquivo metadata.csv, o que pode enviesar o treinamento do modelo."
      ],
      "metadata": {
        "id": "PsmEj1A7F9Lj"
      }
    },
    {
      "cell_type": "code",
      "source": [
        "import os\n",
        "import pandas as pd\n",
        "import hashlib\n",
        "from google.colab import drive\n",
        "\n",
        "# Conecta ao Google Drive\n",
        "drive.mount('/content/drive')\n",
        "\n",
        "# Caminho base do seu projeto\n",
        "BASE_PATH = '/content/drive/My Drive/Colab Notebooks/BootCampAVANTI_machine_learning/Ativ04'\n",
        "IMAGES_FOLDER_PATH = os.path.join(BASE_PATH, 'images')\n",
        "METADATA_PATH = os.path.join(BASE_PATH, 'metadata.csv')\n",
        "\n",
        "print(\"\\n--- 4. Análise de Duplicatas ---\")\n",
        "print(\"Verificando imagens duplicadas...\")\n",
        "\n",
        "hashes = {}\n",
        "duplicates = []\n",
        "try:\n",
        "    for img_name in os.listdir(IMAGES_FOLDER_PATH):\n",
        "        img_path = os.path.join(IMAGES_FOLDER_PATH, img_name)\n",
        "        with open(img_path, 'rb') as f:\n",
        "            file_hash = hashlib.md5(f.read()).hexdigest()\n",
        "        if file_hash in hashes:\n",
        "            duplicates.append((img_name, hashes[file_hash]))\n",
        "        else:\n",
        "            hashes[file_hash] = img_name\n",
        "except FileNotFoundError:\n",
        "    print(f\"Erro: A pasta de imagens não foi encontrada em {IMAGES_FOLDER_PATH}.\")\n",
        "\n",
        "if not duplicates:\n",
        "    print(\"✅ Sucesso: Nenhuma imagem duplicada foi encontrada.\")\n",
        "else:\n",
        "    print(f\"❌ Aviso: {len(duplicates)} imagens duplicadas foram encontradas.\")\n",
        "\n",
        "print(\"\\nVerificando metadados duplicados...\")\n",
        "try:\n",
        "    df_meta = pd.read_csv(METADATA_PATH)\n",
        "    if df_meta.duplicated().sum() == 0:\n",
        "        print(\"✅ Sucesso: Não há linhas duplicadas no arquivo de metadados.\")\n",
        "    else:\n",
        "        print(f\"❌ Aviso: {df_meta.duplicated().sum()} linhas duplicadas encontradas nos metadados.\")\n",
        "except FileNotFoundError:\n",
        "    print(f\"Erro: O arquivo {METADATA_PATH} não foi encontrado.\")"
      ],
      "metadata": {
        "id": "VXlLDu-JFy9d",
        "outputId": "4d673cde-6177-4785-d868-b9df871abede",
        "colab": {
          "base_uri": "https://localhost:8080/"
        }
      },
      "execution_count": 8,
      "outputs": [
        {
          "output_type": "stream",
          "name": "stdout",
          "text": [
            "Drive already mounted at /content/drive; to attempt to forcibly remount, call drive.mount(\"/content/drive\", force_remount=True).\n",
            "\n",
            "--- 4. Análise de Duplicatas ---\n",
            "Verificando imagens duplicadas...\n",
            "❌ Aviso: 1 imagens duplicadas foram encontradas.\n",
            "\n",
            "Verificando metadados duplicados...\n",
            "✅ Sucesso: Não há linhas duplicadas no arquivo de metadados.\n"
          ]
        }
      ]
    }
  ]
}