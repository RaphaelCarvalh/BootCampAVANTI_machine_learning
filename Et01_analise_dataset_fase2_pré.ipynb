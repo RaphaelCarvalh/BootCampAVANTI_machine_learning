{
  "nbformat": 4,
  "nbformat_minor": 0,
  "metadata": {
    "colab": {
      "provenance": [],
      "include_colab_link": true
    },
    "kernelspec": {
      "name": "python3",
      "display_name": "Python 3"
    },
    "language_info": {
      "name": "python"
    }
  },
  "cells": [
    {
      "cell_type": "markdown",
      "metadata": {
        "id": "view-in-github",
        "colab_type": "text"
      },
      "source": [
        "<a href=\"https://colab.research.google.com/github/RaphaelCarvalh/BootCampAVANTI_machine_learning/blob/ativ04-et01-analise-dataset/Et01_analise_dataset_fase2_pr%C3%A9.ipynb\" target=\"_parent\"><img src=\"https://colab.research.google.com/assets/colab-badge.svg\" alt=\"Open In Colab\"/></a>"
      ]
    },
    {
      "cell_type": "markdown",
      "source": [
        "Projeto Clothing Co-Parsing - Etapa 1 - Notebook: Análise do Dataset - TIV-04-ET-02\n"
      ],
      "metadata": {
        "id": "xB_DWEsu5T-F"
      }
    },
    {
      "cell_type": "code",
      "source": [
        "# ============================================================\n",
        "# Projeto Clothing Co-Parsing - Notebook Principal (Professor)\n",
        "# ============================================================\n",
        "\n",
        "# 1. Instalação de pacotes necessários\n",
        "print(\"Instalando pacotes necessários...\")\n",
        "!pip install opendatasets pandas matplotlib opencv-python pillow --quiet\n",
        "print(\"Pacotes instalados com sucesso.\\n\")\n",
        "\n",
        "# 2. Importações iniciais\n",
        "import os\n",
        "import pandas as pd\n",
        "import matplotlib.pyplot as plt\n",
        "import numpy as np\n",
        "import cv2\n",
        "from PIL import Image\n",
        "import torch\n",
        "import torch.nn as nn\n",
        "import torch.optim as optim\n",
        "from torchvision import models, transforms\n",
        "from torch.utils.data import Dataset, DataLoader\n",
        "from sklearn.model_selection import train_test_split\n",
        "import time, copy, json\n",
        "from tqdm import tqdm\n",
        "\n",
        "print(\"Pacotes importados com sucesso.\\n\")\n",
        "\n",
        "# Otimização no CUDA\n",
        "torch.backends.cudnn.benchmark = True\n"
      ],
      "metadata": {
        "colab": {
          "base_uri": "https://localhost:8080/"
        },
        "id": "ojaVnMRr-9fR",
        "outputId": "79058cea-3d1a-4fe2-d82f-3003dd3c7225"
      },
      "execution_count": null,
      "outputs": [
        {
          "output_type": "stream",
          "name": "stdout",
          "text": [
            "Instalando pacotes necessários...\n",
            "Pacotes instalados com sucesso.\n",
            "\n"
          ]
        }
      ]
    },
    {
      "cell_type": "code",
      "source": [
        "# 3. Montar Google Drive e carregar dataset já limpo\n",
        "from google.colab import drive\n",
        "drive.mount('/content/drive')\n",
        "\n",
        "LOAD_PATH = \"/content/drive/MyDrive/ClothingDataset/df_clean.csv\"\n",
        "df = pd.read_csv(LOAD_PATH)\n",
        "\n",
        "print(\"Exemplo do dataset carregado:\")\n",
        "print(df.head())\n",
        "print(f\"Total de imagens: {len(df)}\\n\")\n",
        "\n",
        "# Número de classes\n",
        "num_classes = len(df['label'].unique())\n",
        "print(f\"Número de classes: {num_classes}\")\n"
      ],
      "metadata": {
        "id": "TE7vaTD-_BQ6",
        "colab": {
          "base_uri": "https://localhost:8080/"
        },
        "outputId": "1536be75-4957-489b-c774-7d22d4ac4b71"
      },
      "execution_count": 2,
      "outputs": [
        {
          "output_type": "stream",
          "name": "stdout",
          "text": [
            "Mounted at /content/drive\n",
            "Exemplo do dataset carregado:\n",
            "                                     image_path  corrupted        image_hash  \\\n",
            "0  ./clothing-coparsing-dataset/images/0391.jpg      False  b19bcb72550cccf0   \n",
            "1  ./clothing-coparsing-dataset/images/1465.jpg      False  8e2e7b911476a969   \n",
            "2  ./clothing-coparsing-dataset/images/1312.jpg      False  f18081ff763ac4f0   \n",
            "3  ./clothing-coparsing-dataset/images/1842.jpg      False  b14e84b14c9aae6f   \n",
            "4  ./clothing-coparsing-dataset/images/0983.jpg      False  b4ccdbb30489bcb4   \n",
            "\n",
            "   width  height  channels        label  \n",
            "0    550     824         3  pixel-level  \n",
            "1    550     809         3  image-level  \n",
            "2    550     832         3  image-level  \n",
            "3    550     809         3  image-level  \n",
            "4    550     827         3  pixel-level  \n",
            "Total de imagens: 2096\n",
            "\n",
            "Número de classes: 2\n"
          ]
        }
      ]
    },
    {
      "cell_type": "code",
      "source": [
        "# 4. Transformações e Augmentations\n",
        "print(\"Configurando transformações e augmentations...\\n\")\n",
        "\n",
        "IMG_SIZE = 224\n",
        "\n",
        "train_transform = transforms.Compose([\n",
        "    transforms.ToPILImage(),\n",
        "    transforms.RandomResizedCrop(IMG_SIZE),\n",
        "    transforms.RandomHorizontalFlip(),\n",
        "    transforms.RandomRotation(15),\n",
        "    transforms.ColorJitter(brightness=0.2, contrast=0.2, saturation=0.2),\n",
        "    transforms.ToTensor(),\n",
        "    transforms.Normalize(mean=[0.485, 0.456, 0.406],\n",
        "                         std=[0.229, 0.224, 0.225])\n",
        "])\n",
        "\n",
        "val_test_transform = transforms.Compose([\n",
        "    transforms.ToPILImage(),\n",
        "    transforms.Resize((IMG_SIZE, IMG_SIZE)),\n",
        "    transforms.ToTensor(),\n",
        "    transforms.Normalize(mean=[0.485, 0.456, 0.406],\n",
        "                         std=[0.229, 0.224, 0.225])\n",
        "])\n",
        "\n",
        "print(\"Transformações configuradas com sucesso.\")\n"
      ],
      "metadata": {
        "colab": {
          "base_uri": "https://localhost:8080/"
        },
        "id": "DQqMqZ4B_Hg9",
        "outputId": "0c199a5e-6612-4c15-b70e-c82c6850186f"
      },
      "execution_count": 3,
      "outputs": [
        {
          "output_type": "stream",
          "name": "stdout",
          "text": [
            "Configurando transformações e augmentations...\n",
            "\n",
            "Transformações configuradas com sucesso.\n"
          ]
        }
      ]
    },
    {
      "cell_type": "code",
      "source": [
        "# 5. Dataset personalizado\n",
        "class ClothingDataset(Dataset):\n",
        "    def __init__(self, data, transform):\n",
        "        self.data = data\n",
        "        self.transform = transform\n",
        "\n",
        "    def __len__(self):\n",
        "        return len(self.data)\n",
        "\n",
        "    def __getitem__(self, idx):\n",
        "        img_path, label = self.data[idx, 0], self.data[idx, 1]\n",
        "        img = cv2.imread(img_path)\n",
        "        if img is None:\n",
        "            # fallback para imagens corrompidas\n",
        "            img = np.zeros((IMG_SIZE, IMG_SIZE, 3), dtype=np.uint8)\n",
        "        else:\n",
        "            img = cv2.cvtColor(img, cv2.COLOR_BGR2RGB)\n",
        "        if self.transform:\n",
        "            img = self.transform(img)\n",
        "        return img, label\n",
        "\n",
        "# 6. Split em treino, validação, teste\n",
        "train_data, temp_data = train_test_split(df.values, test_size=0.2, random_state=42, stratify=df.values[:,1])\n",
        "val_data, test_data = train_test_split(temp_data, test_size=0.5, random_state=42, stratify=temp_data[:,1])\n",
        "\n",
        "# Criar datasets\n",
        "train_ds = ClothingDataset(train_data, transform=train_transform)\n",
        "val_ds = ClothingDataset(val_data, transform=val_test_transform)\n",
        "test_ds = ClothingDataset(test_data, transform=val_test_transform)\n",
        "\n",
        "# Criar dataloaders\n",
        "BATCH_SIZE = 32\n",
        "train_dl = DataLoader(train_ds, batch_size=BATCH_SIZE, shuffle=True)\n",
        "val_dl = DataLoader(val_ds, batch_size=BATCH_SIZE, shuffle=False)\n",
        "test_dl = DataLoader(test_ds, batch_size=BATCH_SIZE, shuffle=False)\n",
        "\n",
        "print(f\"Treino: {len(train_ds)} | Validação: {len(val_ds)} | Teste: {len(test_ds)}\")\n"
      ],
      "metadata": {
        "colab": {
          "base_uri": "https://localhost:8080/"
        },
        "id": "OzaQ9EZw_Ji7",
        "outputId": "8f6b8414-9a5f-4e91-c445-ec13594de3a2"
      },
      "execution_count": 4,
      "outputs": [
        {
          "output_type": "stream",
          "name": "stdout",
          "text": [
            "Treino: 1676 | Validação: 210 | Teste: 210\n"
          ]
        }
      ]
    },
    {
      "cell_type": "code",
      "source": [
        "def train_model(\n",
        "    model,\n",
        "    train_dl,\n",
        "    val_dl,\n",
        "    criterion,\n",
        "    optimizer,\n",
        "    num_epochs=10,\n",
        "    device=None,\n",
        "    save_path=\"best_model.pth\",\n",
        "    early_stopping_patience=None,\n",
        "    grad_clip=None,\n",
        "    use_amp=True\n",
        "):\n",
        "    if device is None:\n",
        "        device = torch.device(\"cuda\" if torch.cuda.is_available() else \"cpu\")\n",
        "    model.to(device)\n",
        "\n",
        "    scaler = torch.cuda.amp.GradScaler() if (use_amp and device.type == \"cuda\") else None\n",
        "\n",
        "    history = {\"train_loss\": [], \"train_acc\": [], \"val_loss\": [], \"val_acc\": []}\n",
        "    best_model_wts = copy.deepcopy(model.state_dict())\n",
        "    best_val_acc = 0.0\n",
        "    patience_counter = 0\n",
        "\n",
        "    for epoch in range(1, num_epochs+1):\n",
        "        print(f\"\\nÉpoca {epoch}/{num_epochs}\")\n",
        "        start_time = time.time()\n",
        "\n",
        "        # ---------- Treino ----------\n",
        "        model.train()\n",
        "        train_loss, train_correct, total = 0.0, 0, 0\n",
        "        for inputs, labels in tqdm(train_dl, desc=\"Treinando\", leave=False):\n",
        "            #inputs, labels = inputs.to(device), torch.tensor(labels, dtype=torch.long).to(device)\n",
        "            inputs, labels = inputs.to(device), labels.detach().clone().to(device, dtype=torch.long)\n",
        "            optimizer.zero_grad()\n",
        "\n",
        "            if scaler:\n",
        "                with torch.cuda.amp.autocast():\n",
        "                    outputs = model(inputs)\n",
        "                    loss = criterion(outputs, labels)\n",
        "                scaler.scale(loss).backward()\n",
        "                if grad_clip:\n",
        "                    scaler.unscale_(optimizer)\n",
        "                    torch.nn.utils.clip_grad_norm_(model.parameters(), grad_clip)\n",
        "                scaler.step(optimizer)\n",
        "                scaler.update()\n",
        "            else:\n",
        "                outputs = model(inputs)\n",
        "                loss = criterion(outputs, labels)\n",
        "                loss.backward()\n",
        "                if grad_clip:\n",
        "                    torch.nn.utils.clip_grad_norm_(model.parameters(), grad_clip)\n",
        "                optimizer.step()\n",
        "\n",
        "            preds = torch.argmax(outputs, 1)\n",
        "            train_loss += loss.item() * inputs.size(0)\n",
        "            train_correct += torch.sum(preds == labels).item()\n",
        "            total += inputs.size(0)\n",
        "\n",
        "        epoch_loss = train_loss / total\n",
        "        epoch_acc = train_correct / total\n",
        "        history[\"train_loss\"].append(epoch_loss)\n",
        "        history[\"train_acc\"].append(epoch_acc)\n",
        "\n",
        "        # ---------- Validação ----------\n",
        "        model.eval()\n",
        "        val_loss, val_correct, val_total = 0.0, 0, 0\n",
        "        with torch.no_grad():\n",
        "            for inputs, labels in val_dl:\n",
        "                #inputs, labels = inputs.to(device), torch.tensor(labels, dtype=torch.long).to(device)\n",
        "                inputs, labels = inputs.to(device), labels.detach().clone().to(device, dtype=torch.long)\n",
        "                outputs = model(inputs)\n",
        "                loss = criterion(outputs, labels)\n",
        "                preds = torch.argmax(outputs, 1)\n",
        "                val_loss += loss.item() * inputs.size(0)\n",
        "                val_correct += torch.sum(preds == labels).item()\n",
        "                val_total += inputs.size(0)\n",
        "\n",
        "        val_loss /= val_total\n",
        "        val_acc = val_correct / val_total\n",
        "        history[\"val_loss\"].append(val_loss)\n",
        "        history[\"val_acc\"].append(val_acc)\n",
        "\n",
        "        print(f\"Train Loss: {epoch_loss:.4f} | Train Acc: {epoch_acc:.4f}\")\n",
        "        print(f\"Val Loss: {val_loss:.4f} | Val Acc: {val_acc:.4f}\")\n",
        "\n",
        "        # Salvar melhor modelo\n",
        "        if val_acc > best_val_acc:\n",
        "            best_val_acc = val_acc\n",
        "            best_model_wts = copy.deepcopy(model.state_dict())\n",
        "            torch.save(best_model_wts, save_path)\n",
        "            patience_counter = 0\n",
        "            print(f\" Melhor modelo salvo em {save_path}\")\n",
        "        else:\n",
        "            patience_counter += 1\n",
        "            if early_stopping_patience and patience_counter >= early_stopping_patience:\n",
        "                print(\" Early stopping ativado.\")\n",
        "                break\n",
        "\n",
        "        print(f\" Tempo da época: {(time.time()-start_time):.1f}s\")\n",
        "\n",
        "    model.load_state_dict(best_model_wts)\n",
        "    return model, history, best_val_acc\n"
      ],
      "metadata": {
        "id": "DBpI-wKGW8Si"
      },
      "execution_count": 45,
      "outputs": []
    },
    {
      "cell_type": "markdown",
      "source": [
        "transformações e augmentations"
      ],
      "metadata": {
        "id": "XydGTCU9D7ZE"
      }
    },
    {
      "cell_type": "code",
      "source": [
        "# 6. Definição dos modelos\n",
        "device = torch.device(\"cuda\" if torch.cuda.is_available() else \"cpu\")\n",
        "print(f\"Usando dispositivo: {device}\")\n",
        "\n",
        "# ResNet50\n",
        "resnet50 = models.resnet50(weights=\"IMAGENET1K_V1\")\n",
        "in_features = resnet50.fc.in_features\n",
        "resnet50.fc = nn.Linear(in_features, num_classes)\n",
        "resnet50 = resnet50.to(device)\n",
        "\n",
        "# EfficientNet-B0\n",
        "efficientnet = models.efficientnet_b0(weights=\"IMAGENET1K_V1\")\n",
        "in_features = efficientnet.classifier[1].in_features\n",
        "efficientnet.classifier[1] = nn.Linear(in_features, num_classes)\n",
        "efficientnet = efficientnet.to(device)\n",
        "\n",
        "print(\"Modelos inicializados com sucesso.\")\n",
        "\n",
        "# Critério de perda\n",
        "criterion = nn.CrossEntropyLoss()\n",
        "\n",
        "# ---------- Treinar ResNet50 ----------\n",
        "optimizer_resnet = optim.Adam(resnet50.parameters(), lr=1e-4)\n",
        "print(\"\\n Treinando ResNet50...\")\n",
        "resnet50, history_resnet, best_acc_resnet = train_model(\n",
        "    model=resnet50,\n",
        "    train_dl=train_dl,\n",
        "    val_dl=val_dl,\n",
        "    criterion=criterion,\n",
        "    optimizer=optimizer_resnet,\n",
        "    num_epochs=10,\n",
        "    device=device,\n",
        "    save_path=\"best_resnet50.pth\",\n",
        "    early_stopping_patience=3\n",
        ")\n",
        "\n",
        "# Exportar ResNet50\n",
        "EXPORT_PATH = \"/content/drive/MyDrive/ClothingDataset/TrainedModels\"\n",
        "os.makedirs(EXPORT_PATH, exist_ok=True)\n",
        "\n",
        "import shutil\n",
        "try:\n",
        "    shutil.copy2(\"/content/best_resnet50.pth\", os.path.join(EXPORT_PATH, \"best_resnet50.pth\"))\n",
        "    print(\"ResNet50 exportado com sucesso ✅\")\n",
        "except Exception as e:\n",
        "    print(f\"Erro ao exportar ResNet50: {e}\")\n",
        "\n",
        "# ---------- Treinar EfficientNet-B0 ----------\n",
        "optimizer_efficient = optim.Adam(efficientnet.parameters(), lr=1e-4)\n",
        "print(\"\\n Treinando EfficientNet-B0...\")\n",
        "efficientnet, history_efficient, best_acc_efficient = train_model(\n",
        "    model=efficientnet,\n",
        "    train_dl=train_dl,\n",
        "    val_dl=val_dl,\n",
        "    criterion=criterion,\n",
        "    optimizer=optimizer_efficient,\n",
        "    num_epochs=10,\n",
        "    device=device,\n",
        "    save_path=\"best_efficientnet.pth\",\n",
        "    early_stopping_patience=3\n",
        ")\n",
        "\n",
        "# Exportar EfficientNet-B0\n",
        "try:\n",
        "    shutil.copy2(\"/content/best_efficientnet.pth\", os.path.join(EXPORT_PATH, \"best_efficientnet.pth\"))\n",
        "    print(\"EfficientNet-B0 exportado com sucesso ✅\")\n",
        "except Exception as e:\n",
        "    print(f\"Erro ao exportar EfficientNet: {e}\")\n",
        "\n",
        "# ---------- Comparação da Acurácia ----------\n",
        "plt.figure(figsize=(10,5))\n",
        "plt.plot(history_resnet['val_acc'], label=\"ResNet50\")\n",
        "plt.plot(history_efficient['val_acc'], label=\"EfficientNet-B0\")\n",
        "plt.title(\"Comparação da Acurácia de Validação\")\n",
        "plt.xlabel(\"Épocas\")\n",
        "plt.ylabel(\"Acurácia\")\n",
        "plt.legend()\n",
        "plt.show()\n",
        "\n",
        "print(\"\\n Resultados finais:\")\n",
        "print(f\"ResNet50 - Melhor Val Acc: {best_acc_resnet:.4f}\")\n",
        "print(f\"EfficientNet-B0 - Melhor Val Acc: {best_acc_efficient:.4f}\")\n"
      ],
      "metadata": {
        "id": "nYuT7PhOsUDQ",
        "outputId": "71218d98-1349-46c6-b226-12d812d98017",
        "colab": {
          "base_uri": "https://localhost:8080/",
          "height": 211
        }
      },
      "execution_count": 1,
      "outputs": [
        {
          "output_type": "error",
          "ename": "NameError",
          "evalue": "name 'torch' is not defined",
          "traceback": [
            "\u001b[0;31m---------------------------------------------------------------------------\u001b[0m",
            "\u001b[0;31mNameError\u001b[0m                                 Traceback (most recent call last)",
            "\u001b[0;32m/tmp/ipython-input-1266906226.py\u001b[0m in \u001b[0;36m<cell line: 0>\u001b[0;34m()\u001b[0m\n\u001b[1;32m      1\u001b[0m \u001b[0;31m# 6. Definição dos modelos\u001b[0m\u001b[0;34m\u001b[0m\u001b[0;34m\u001b[0m\u001b[0m\n\u001b[0;32m----> 2\u001b[0;31m \u001b[0mdevice\u001b[0m \u001b[0;34m=\u001b[0m \u001b[0mtorch\u001b[0m\u001b[0;34m.\u001b[0m\u001b[0mdevice\u001b[0m\u001b[0;34m(\u001b[0m\u001b[0;34m\"cuda\"\u001b[0m \u001b[0;32mif\u001b[0m \u001b[0mtorch\u001b[0m\u001b[0;34m.\u001b[0m\u001b[0mcuda\u001b[0m\u001b[0;34m.\u001b[0m\u001b[0mis_available\u001b[0m\u001b[0;34m(\u001b[0m\u001b[0;34m)\u001b[0m \u001b[0;32melse\u001b[0m \u001b[0;34m\"cpu\"\u001b[0m\u001b[0;34m)\u001b[0m\u001b[0;34m\u001b[0m\u001b[0;34m\u001b[0m\u001b[0m\n\u001b[0m\u001b[1;32m      3\u001b[0m \u001b[0mprint\u001b[0m\u001b[0;34m(\u001b[0m\u001b[0;34mf\"Usando dispositivo: {device}\"\u001b[0m\u001b[0;34m)\u001b[0m\u001b[0;34m\u001b[0m\u001b[0;34m\u001b[0m\u001b[0m\n\u001b[1;32m      4\u001b[0m \u001b[0;34m\u001b[0m\u001b[0m\n\u001b[1;32m      5\u001b[0m \u001b[0;31m# ResNet50\u001b[0m\u001b[0;34m\u001b[0m\u001b[0;34m\u001b[0m\u001b[0m\n",
            "\u001b[0;31mNameError\u001b[0m: name 'torch' is not defined"
          ]
        }
      ]
    },
    {
      "cell_type": "code",
      "source": [
        "# 6. Definição dos modelos\n",
        "device = torch.device(\"cuda\" if torch.cuda.is_available() else \"cpu\")\n",
        "print(f\"Usando dispositivo: {device}\")\n",
        "\n",
        "# ResNet50\n",
        "resnet50 = models.resnet50(weights=\"IMAGENET1K_V1\")\n",
        "in_features = resnet50.fc.in_features\n",
        "resnet50.fc = nn.Linear(in_features, num_classes)\n",
        "resnet50 = resnet50.to(device)\n",
        "\n",
        "# EfficientNet-B0\n",
        "efficientnet = models.efficientnet_b0(weights=\"IMAGENET1K_V1\")\n",
        "in_features = efficientnet.classifier[1].in_features\n",
        "efficientnet.classifier[1] = nn.Linear(in_features, num_classes)\n",
        "efficientnet = efficientnet.to(device)\n",
        "\n",
        "# VGG16\n",
        "vgg16 = models.vgg16(weights=\"IMAGENET1K_V1\")\n",
        "in_features = vgg16.classifier[6].in_features\n",
        "vgg16.classifier[6] = nn.Linear(in_features, num_classes)\n",
        "vgg16 = vgg16.to(device)\n",
        "\n",
        "print(\"Modelos inicializados com sucesso.\")\n"
      ],
      "metadata": {
        "colab": {
          "base_uri": "https://localhost:8080/"
        },
        "id": "Pjh_uGUfD6bi",
        "outputId": "c41f49f9-601d-4e6e-80f6-cb648061db83"
      },
      "execution_count": 6,
      "outputs": [
        {
          "output_type": "stream",
          "name": "stdout",
          "text": [
            "Usando dispositivo: cpu\n",
            "Downloading: \"https://download.pytorch.org/models/resnet50-0676ba61.pth\" to /root/.cache/torch/hub/checkpoints/resnet50-0676ba61.pth\n"
          ]
        },
        {
          "output_type": "stream",
          "name": "stderr",
          "text": [
            "100%|██████████| 97.8M/97.8M [00:01<00:00, 72.7MB/s]\n"
          ]
        },
        {
          "output_type": "stream",
          "name": "stdout",
          "text": [
            "Downloading: \"https://download.pytorch.org/models/efficientnet_b0_rwightman-7f5810bc.pth\" to /root/.cache/torch/hub/checkpoints/efficientnet_b0_rwightman-7f5810bc.pth\n"
          ]
        },
        {
          "output_type": "stream",
          "name": "stderr",
          "text": [
            "100%|██████████| 20.5M/20.5M [00:00<00:00, 37.7MB/s]\n"
          ]
        },
        {
          "output_type": "stream",
          "name": "stdout",
          "text": [
            "Downloading: \"https://download.pytorch.org/models/vgg16-397923af.pth\" to /root/.cache/torch/hub/checkpoints/vgg16-397923af.pth\n"
          ]
        },
        {
          "output_type": "stream",
          "name": "stderr",
          "text": [
            "100%|██████████| 528M/528M [00:11<00:00, 49.6MB/s]\n"
          ]
        },
        {
          "output_type": "stream",
          "name": "stdout",
          "text": [
            "Modelos inicializados com sucesso.\n"
          ]
        }
      ]
    },
    {
      "cell_type": "markdown",
      "source": [
        "Criar Datasets e DataLoaders"
      ],
      "metadata": {
        "id": "AchbzWCOEsr7"
      }
    },
    {
      "cell_type": "code",
      "source": [
        "# Critério de perda\n",
        "criterion = nn.CrossEntropyLoss()\n",
        "\n",
        "# Treinar ResNet50\n",
        "optimizer_resnet = optim.Adam(resnet50.parameters(), lr=1e-4)\n",
        "print(\"\\n Treinando ResNet50...\")\n",
        "resnet50, history_resnet, best_acc_resnet = train_model(\n",
        "    model=resnet50,\n",
        "    train_dl=train_dl,\n",
        "    val_dl=val_dl,\n",
        "    criterion=criterion,\n",
        "    optimizer=optimizer_resnet,\n",
        "    num_epochs=10,\n",
        "    device=device,\n",
        "    save_path=\"best_resnet50.pth\",\n",
        "    early_stopping_patience=3\n",
        ")\n",
        "\n",
        "\n",
        "\n"
      ],
      "metadata": {
        "id": "zyzDtepygmV9",
        "colab": {
          "base_uri": "https://localhost:8080/"
        },
        "outputId": "3ee6079d-fde0-4be5-b0a5-c530c569b55f"
      },
      "execution_count": 7,
      "outputs": [
        {
          "output_type": "stream",
          "name": "stdout",
          "text": [
            "\n",
            " Treinando ResNet50...\n",
            "\n",
            "Época 1/10\n"
          ]
        },
        {
          "output_type": "stream",
          "name": "stderr",
          "text": []
        },
        {
          "output_type": "stream",
          "name": "stdout",
          "text": [
            "Train Loss: 0.0636 | Train Acc: 0.9809\n",
            "Val Loss: 0.0363 | Val Acc: 1.0000\n",
            "✅ Melhor modelo salvo em best_resnet50.pth\n",
            "⏱️ Tempo da época: 1287.3s\n",
            "\n",
            "Época 2/10\n"
          ]
        },
        {
          "output_type": "stream",
          "name": "stderr",
          "text": []
        },
        {
          "output_type": "stream",
          "name": "stdout",
          "text": [
            "Train Loss: 0.0012 | Train Acc: 1.0000\n",
            "Val Loss: 0.0010 | Val Acc: 1.0000\n",
            "⏱️ Tempo da época: 1234.7s\n",
            "\n",
            "Época 3/10\n"
          ]
        },
        {
          "output_type": "stream",
          "name": "stderr",
          "text": []
        },
        {
          "output_type": "stream",
          "name": "stdout",
          "text": [
            "Train Loss: 0.0008 | Train Acc: 1.0000\n",
            "Val Loss: 0.0007 | Val Acc: 1.0000\n",
            "⏱️ Tempo da época: 1212.2s\n",
            "\n",
            "Época 4/10\n"
          ]
        },
        {
          "output_type": "stream",
          "name": "stderr",
          "text": []
        },
        {
          "output_type": "stream",
          "name": "stdout",
          "text": [
            "Train Loss: 0.0006 | Train Acc: 1.0000\n",
            "Val Loss: 0.0005 | Val Acc: 1.0000\n",
            "⏹️ Early stopping ativado.\n"
          ]
        }
      ]
    },
    {
      "cell_type": "code",
      "source": [
        "# 7. Exportar modelos para o Google Drive\n",
        "print(\"\\n Exportando modelos para o Google Drive...\")\n",
        "\n",
        "EXPORT_PATH = \"/content/drive/MyDrive/ClothingDataset/TrainedModels\"\n",
        "os.makedirs(EXPORT_PATH, exist_ok=True)\n",
        "\n",
        "model_files = [\"best_resnet50.pth\"]\n",
        "\n",
        "for file_name in model_files:\n",
        "    source_path = os.path.join(\"/content/\", file_name)\n",
        "    destination_path = os.path.join(EXPORT_PATH, file_name)\n",
        "    try:\n",
        "        # Usar a função copy2 para preservar metadados\n",
        "        import shutil\n",
        "        shutil.copy2(source_path, destination_path)\n",
        "        print(f\"'{file_name}' exportado com sucesso para '{EXPORT_PATH}'\")\n",
        "    except FileNotFoundError:\n",
        "        print(f\"Erro: O arquivo '{file_name}' não foi encontrado.\")\n",
        "    except Exception as e:\n",
        "        print(f\"Erro ao exportar '{file_name}': {e}\")\n",
        "\n",
        "print(\"\\n Exportação de modelos concluída.\")"
      ],
      "metadata": {
        "id": "VXiy8-UuRIJy",
        "colab": {
          "base_uri": "https://localhost:8080/"
        },
        "outputId": "b02af48b-80c5-4acd-bf26-8c8596d2e51c"
      },
      "execution_count": 8,
      "outputs": [
        {
          "output_type": "stream",
          "name": "stdout",
          "text": [
            "\n",
            " Exportando modelos para o Google Drive...\n",
            "'best_resnet50.pth' exportado com sucesso para '/content/drive/MyDrive/ClothingDataset/TrainedModels'\n",
            "\n",
            " Exportação de modelos concluída.\n"
          ]
        }
      ]
    },
    {
      "cell_type": "code",
      "source": [
        "# Treinar VGG16\n",
        "optimizer_vgg = optim.Adam(vgg16.parameters(), lr=1e-4)\n",
        "print(\"\\n Treinando VGG16...\")\n",
        "vgg16, history_vgg, best_acc_vgg = train_model(\n",
        "    model=vgg16,\n",
        "    train_dl=train_dl,\n",
        "    val_dl=val_dl,\n",
        "    criterion=criterion,\n",
        "    optimizer=optimizer_vgg,\n",
        "    num_epochs=10,\n",
        "    device=device,\n",
        "    save_path=\"best_vgg16.pth\",\n",
        "    early_stopping_patience=3\n",
        ")\n"
      ],
      "metadata": {
        "id": "FeWY8VZ2Qy7s",
        "colab": {
          "base_uri": "https://localhost:8080/"
        },
        "outputId": "c0657385-8812-447f-aa00-ee22de4c7701"
      },
      "execution_count": 12,
      "outputs": [
        {
          "output_type": "stream",
          "name": "stdout",
          "text": [
            "\n",
            " Treinando VGG16...\n",
            "\n",
            "Época 1/10\n"
          ]
        },
        {
          "output_type": "stream",
          "name": "stderr",
          "text": []
        },
        {
          "output_type": "stream",
          "name": "stdout",
          "text": [
            "Train Loss: 0.0137 | Train Acc: 0.9958\n",
            "Val Loss: 0.0000 | Val Acc: 1.0000\n",
            "✅ Melhor modelo salvo em best_vgg16.pth\n",
            "⏱️ Tempo da época: 5805.4s\n",
            "\n",
            "Época 2/10\n"
          ]
        },
        {
          "output_type": "stream",
          "name": "stderr",
          "text": []
        },
        {
          "output_type": "stream",
          "name": "stdout",
          "text": [
            "Train Loss: 0.0000 | Train Acc: 1.0000\n",
            "Val Loss: 0.0000 | Val Acc: 1.0000\n",
            "⏱️ Tempo da época: 3587.3s\n",
            "\n",
            "Época 3/10\n"
          ]
        },
        {
          "output_type": "stream",
          "name": "stderr",
          "text": []
        },
        {
          "output_type": "stream",
          "name": "stdout",
          "text": [
            "Train Loss: 0.0000 | Train Acc: 1.0000\n",
            "Val Loss: 0.0000 | Val Acc: 1.0000\n",
            "⏱️ Tempo da época: 3625.7s\n",
            "\n",
            "Época 4/10\n"
          ]
        },
        {
          "output_type": "stream",
          "name": "stderr",
          "text": []
        },
        {
          "output_type": "stream",
          "name": "stdout",
          "text": [
            "Train Loss: 0.0000 | Train Acc: 1.0000\n",
            "Val Loss: 0.0000 | Val Acc: 1.0000\n",
            "⏹️ Early stopping ativado.\n"
          ]
        }
      ]
    },
    {
      "cell_type": "code",
      "source": [
        "# 7. Exportar modelos para o Google Drive\n",
        "print(\"\\n Exportando modelos para o Google Drive...\")\n",
        "\n",
        "EXPORT_PATH = \"/content/drive/MyDrive/ClothingDataset/TrainedModels\"\n",
        "os.makedirs(EXPORT_PATH, exist_ok=True)\n",
        "\n",
        "model_files = [\"best_vgg16.pth\"]\n",
        "\n",
        "for file_name in model_files:\n",
        "    source_path = os.path.join(\"/content/\", file_name)\n",
        "    destination_path = os.path.join(EXPORT_PATH, file_name)\n",
        "    try:\n",
        "        # Usar a função copy2 para preservar metadados\n",
        "        import shutil\n",
        "        shutil.copy2(source_path, destination_path)\n",
        "        print(f\"'{file_name}' exportado com sucesso para '{EXPORT_PATH}'\")\n",
        "    except FileNotFoundError:\n",
        "        print(f\"Erro: O arquivo '{file_name}' não foi encontrado.\")\n",
        "    except Exception as e:\n",
        "        print(f\"Erro ao exportar '{file_name}': {e}\")\n",
        "\n",
        "print(\"\\n Exportação de modelos concluída.\")"
      ],
      "metadata": {
        "id": "HxSGG58bRDhU",
        "colab": {
          "base_uri": "https://localhost:8080/"
        },
        "outputId": "86e2f16c-f366-4aeb-866a-ae3b32d2893a"
      },
      "execution_count": 13,
      "outputs": [
        {
          "output_type": "stream",
          "name": "stdout",
          "text": [
            "\n",
            " Exportando modelos para o Google Drive...\n",
            "'best_vgg16.pth' exportado com sucesso para '/content/drive/MyDrive/ClothingDataset/TrainedModels'\n",
            "\n",
            " Exportação de modelos concluída.\n"
          ]
        }
      ]
    },
    {
      "cell_type": "code",
      "source": [
        "# Treinar EfficientNet-B0\n",
        "optimizer_efficient = optim.Adam(efficientnet.parameters(), lr=1e-4)\n",
        "print(\"\\n Treinando EfficientNet-B0...\")\n",
        "efficientnet, history_efficient, best_acc_efficient = train_model(\n",
        "    model=efficientnet,\n",
        "    train_dl=train_dl,\n",
        "    val_dl=val_dl,\n",
        "    criterion=criterion,\n",
        "    optimizer=optimizer_efficient,\n",
        "    num_epochs=10,\n",
        "    device=device,\n",
        "    save_path=\"best_efficientnet.pth\",\n",
        "    early_stopping_patience=3\n",
        ")\n"
      ],
      "metadata": {
        "id": "uTMIhaaVQzhq",
        "colab": {
          "base_uri": "https://localhost:8080/"
        },
        "outputId": "d1f05b6c-1492-41a9-d8c1-5a7d3aab1adf"
      },
      "execution_count": 10,
      "outputs": [
        {
          "output_type": "stream",
          "name": "stdout",
          "text": [
            "\n",
            " Treinando EfficientNet-B0...\n",
            "\n",
            "Época 1/10\n"
          ]
        },
        {
          "output_type": "stream",
          "name": "stderr",
          "text": []
        },
        {
          "output_type": "stream",
          "name": "stdout",
          "text": [
            "Train Loss: 0.1291 | Train Acc: 0.9821\n",
            "Val Loss: 0.2891 | Val Acc: 1.0000\n",
            "✅ Melhor modelo salvo em best_efficientnet.pth\n",
            "⏱️ Tempo da época: 533.3s\n",
            "\n",
            "Época 2/10\n"
          ]
        },
        {
          "output_type": "stream",
          "name": "stderr",
          "text": []
        },
        {
          "output_type": "stream",
          "name": "stdout",
          "text": [
            "Train Loss: 0.0081 | Train Acc: 1.0000\n",
            "Val Loss: 0.0272 | Val Acc: 1.0000\n",
            "⏱️ Tempo da época: 567.6s\n",
            "\n",
            "Época 3/10\n"
          ]
        },
        {
          "output_type": "stream",
          "name": "stderr",
          "text": []
        },
        {
          "output_type": "stream",
          "name": "stdout",
          "text": [
            "Train Loss: 0.0037 | Train Acc: 1.0000\n",
            "Val Loss: 0.0123 | Val Acc: 1.0000\n",
            "⏱️ Tempo da época: 560.8s\n",
            "\n",
            "Época 4/10\n"
          ]
        },
        {
          "output_type": "stream",
          "name": "stderr",
          "text": []
        },
        {
          "output_type": "stream",
          "name": "stdout",
          "text": [
            "Train Loss: 0.0023 | Train Acc: 1.0000\n",
            "Val Loss: 0.0031 | Val Acc: 1.0000\n",
            "⏹️ Early stopping ativado.\n"
          ]
        }
      ]
    },
    {
      "cell_type": "code",
      "metadata": {
        "colab": {
          "base_uri": "https://localhost:8080/"
        },
        "id": "a3924421",
        "outputId": "e3d9d029-dba9-477e-8e40-539427d695a7"
      },
      "source": [
        "# 7. Exportar modelos para o Google Drive\n",
        "print(\"\\n Exportando modelos para o Google Drive...\")\n",
        "\n",
        "EXPORT_PATH = \"/content/drive/MyDrive/ClothingDataset/TrainedModels\"\n",
        "os.makedirs(EXPORT_PATH, exist_ok=True)\n",
        "\n",
        "model_files = [\"best_efficientnet.pth\"]\n",
        "\n",
        "for file_name in model_files:\n",
        "    source_path = os.path.join(\"/content/\", file_name)\n",
        "    destination_path = os.path.join(EXPORT_PATH, file_name)\n",
        "    try:\n",
        "        # Usar a função copy2 para preservar metadados\n",
        "        import shutil\n",
        "        shutil.copy2(source_path, destination_path)\n",
        "        print(f\"'{file_name}' exportado com sucesso para '{EXPORT_PATH}'\")\n",
        "    except FileNotFoundError:\n",
        "        print(f\"Erro: O arquivo '{file_name}' não foi encontrado.\")\n",
        "    except Exception as e:\n",
        "        print(f\"Erro ao exportar '{file_name}': {e}\")\n",
        "\n",
        "print(\"\\n Exportação de modelos concluída.\")"
      ],
      "execution_count": 11,
      "outputs": [
        {
          "output_type": "stream",
          "name": "stdout",
          "text": [
            "\n",
            " Exportando modelos para o Google Drive...\n",
            "'best_efficientnet.pth' exportado com sucesso para '/content/drive/MyDrive/ClothingDataset/TrainedModels'\n",
            "\n",
            " Exportação de modelos concluída.\n"
          ]
        }
      ]
    },
    {
      "cell_type": "code",
      "source": [
        "# Comparação da Acurácia de Validação\n",
        "plt.figure(figsize=(10,5))\n",
        "plt.plot(history_resnet['val_acc'], label=\"ResNet50\")\n",
        "plt.plot(history_efficient['val_acc'], label=\"EfficientNet-B0\")\n",
        "plt.plot(history_vgg['val_acc'], label=\"VGG16\")\n",
        "plt.title(\"Comparação da Acurácia de Validação\")\n",
        "plt.xlabel(\"Épocas\")\n",
        "plt.ylabel(\"Acurácia\")\n",
        "plt.legend()\n",
        "plt.show()\n",
        "\n",
        "print(\"\\n Resultados finais:\")\n",
        "print(f\"ResNet50 - Melhor Val Acc: {best_acc_resnet:.4f}\")\n",
        "print(f\"EfficientNet-B0 - Melhor Val Acc: {best_acc_efficient:.4f}\")\n",
        "print(f\"VGG16 - Melhor Val Acc: {best_acc_vgg:.4f}\")\n"
      ],
      "metadata": {
        "colab": {
          "base_uri": "https://localhost:8080/",
          "height": 577
        },
        "id": "QgNq3h8xbxtd",
        "outputId": "dad44cc2-fab1-456b-db15-9f1560b47cce"
      },
      "execution_count": 32,
      "outputs": [
        {
          "output_type": "display_data",
          "data": {
            "text/plain": [
              "<Figure size 1000x500 with 1 Axes>"
            ],
            "image/png": "[encoded data removed]"
          },
          "metadata": {}
        },
        {
          "output_type": "stream",
          "name": "stdout",
          "text": [
            "\n",
            " Resultados finais:\n",
            "ResNet50 - Melhor Val Acc: 1.0000\n",
            "EfficientNet-B0 - Melhor Val Acc: 1.0000\n",
            "VGG16 - Melhor Val Acc: 1.0000\n"
          ]
        }
      ]
    }
  ]
}